{
 "cells": [
  {
   "cell_type": "markdown",
   "metadata": {},
   "source": [
    "# Solving Seating Optimization with *sasoptpy*"
   ]
  },
  {
   "cell_type": "code",
   "execution_count": 1,
   "metadata": {},
   "outputs": [],
   "source": [
    "import numpy as np\n",
    "import pandas as pd\n",
    "import sasoptpy as so\n",
    "import itertools\n",
    "from functools import lru_cache\n",
    "from math import sqrt, pi\n",
    "from ipycanvas import Canvas\n",
    "import time\n",
    "import os\n",
    "import sys"
   ]
  },
  {
   "cell_type": "code",
   "execution_count": 2,
   "metadata": {},
   "outputs": [],
   "source": [
    "# Create a Viya connection\n",
    "from swat import CAS\n",
    "CASHOST=os.getenv('CASHOST')\n",
    "CASPORT=os.getenv('CASPORT')\n",
    "s = CAS(CASHOST, CASPORT)"
   ]
  },
  {
   "cell_type": "code",
   "execution_count": 3,
   "metadata": {},
   "outputs": [],
   "source": [
    "# Auxiliary functions\n",
    "def get_set_of_n(section, n):\n",
    "    # Gives groups of \"n\" tickets, that are next to each other for every row\n",
    "    \n",
    "    groups = []\n",
    "    for row in section:\n",
    "        j = [row[i:] for i in range(n)]\n",
    "        e = [list(a) for a in zip(*j)]\n",
    "        f = []\n",
    "        for i in e:\n",
    "            f.append('n'.join(i))\n",
    "        groups.extend(f)\n",
    "    return groups\n",
    "\n",
    "def get_seats_nearby(group_original, all_seats_original, limit):\n",
    "    # Gives a set of the seats that are too close to the given group\n",
    "    \n",
    "    group = [[int(i) for i in g.split('_')] for g in group_original.split('n')]\n",
    "    all_seats = [[int(i) for i in g.split('_')] for a in all_seats_original for g in a.split('n') ]\n",
    "    infeasible_set = []\n",
    "    for v, i in enumerate(all_seats):\n",
    "        if i in group:\n",
    "            continue\n",
    "        for j in group:\n",
    "            if sqrt((i[0]-j[0])**2 + (i[1]-j[1])**2) <= limit:\n",
    "                infeasible_set.append(all_seats_original[v])\n",
    "                break\n",
    "    return infeasible_set\n",
    "\n",
    "def get_groups_nearby(group_original, all_seats_original, all_groups, limit):\n",
    "    # Gives a set of groups that are too close to the given group\n",
    "    \n",
    "    nearby_seats = get_seats_nearby(group_original, all_seats_original, limit)\n",
    "    fset = []\n",
    "    for s in nearby_seats:\n",
    "        for i in all_groups:\n",
    "            if (s in i) and (i != group_original):\n",
    "                fset.append(i)\n",
    "    infset = f7(fset)\n",
    "    return infset\n",
    "\n",
    "# from http://www.peterbe.com/plog/uniqifiers-benchmark\n",
    "def f7(seq):\n",
    "    # Drops duplicates in a list\n",
    "    \n",
    "    seen = set()\n",
    "    seen_add = seen.add\n",
    "    return [x for x in seq if not (x in seen or seen_add(x))]"
   ]
  },
  {
   "cell_type": "code",
   "execution_count": 4,
   "metadata": {},
   "outputs": [],
   "source": [
    "def generate_data(ROWS, COLS, SEAT_DIST, only=None, MAX_GROUP_SIZE=4):\n",
    "    # Generates data for a perfect grid layout\n",
    "    \n",
    "    N = range(ROWS)\n",
    "    M = range(COLS)\n",
    "    L = SEAT_DIST\n",
    "    \n",
    "    section = [[f'{i:02d}_{j:02d}' for j in M] for i in N]\n",
    "    section_df = pd.DataFrame(section)\n",
    "    print(section_df)\n",
    "    \n",
    "    SEATS = [section_df.at[i, j] for i in N for j in M]\n",
    "    if only is None:\n",
    "        ALL_SETS_OF_N = [get_set_of_n(section, i+1) for i in range(MAX_GROUP_SIZE)]\n",
    "        return [j for i in ALL_SETS_OF_N for j in i], SEATS\n",
    "    else:\n",
    "        return get_set_of_n(section, only), SEATS"
   ]
  },
  {
   "cell_type": "code",
   "execution_count": 5,
   "metadata": {},
   "outputs": [],
   "source": [
    "def solve_seating_problem(session, data, lower_target, upper_target):\n",
    "    # Defines and solves the optimization problem. Target levels may be given.\n",
    "    \n",
    "    ALL_GROUPS = data['ALL_GROUPS']\n",
    "    SEATS = data['SEATS']\n",
    "    L = data['L']\n",
    "    \n",
    "    # MODEL\n",
    "    m = so.Model(name='seating_model', session=session)\n",
    "    \n",
    "    # VARS\n",
    "    x = m.add_variables(ALL_GROUPS, vartype=so.binary, name='x')\n",
    "    \n",
    "    # CONSTRAINTS\n",
    "    group_once = m.add_constraints(\n",
    "        (so.expr_sum(x[i] for i in ALL_GROUPS if s in i) <= 1 for s in SEATS), name='group_once')\n",
    "    \n",
    "    security_constraints = m.add_constraints(\n",
    "        (so.expr_sum(x[i]\n",
    "                     for i in get_groups_nearby(g, SEATS, ALL_GROUPS, L))\n",
    "         <= (1-x[g])*len(get_groups_nearby(g, SEATS, ALL_GROUPS, L))\n",
    "         for g in ALL_GROUPS), name='security_constraint')\n",
    "    \n",
    "    sum_of_viewers = so.expr_sum((i.count('n')+1) * x[i] for i in ALL_GROUPS)\n",
    "    \n",
    "    if lower_target is not None:\n",
    "        m.add_constraint(sum_of_viewers >= lower_target, name='objlb')\n",
    "    if upper_target is not None:\n",
    "        m.add_constraint(sum_of_viewers <= upper_target, name='objub')\n",
    "    m.set_objective(sum_of_viewers, sense=so.maximize, name='total_viewers')\n",
    "    #m.tune_parameters(tunerParameters={'maxConfigs': 20})\n",
    "    m.solve(options={'with': 'milp', 'maxtime': 180})\n",
    "    return m"
   ]
  },
  {
   "cell_type": "code",
   "execution_count": 6,
   "metadata": {},
   "outputs": [],
   "source": [
    "def parse_solution(m):\n",
    "    # Produces a list of selected seats and groups\n",
    "    \n",
    "    selected_seats = []\n",
    "    seating_groups = []\n",
    "    for r in m.get_solution().itertuples():\n",
    "        g1 = []\n",
    "        if r.value > 0.5:\n",
    "            print(r.var)\n",
    "            s1 = r.var.split('\\'')[1].split('n')\n",
    "            for i in s1:\n",
    "                cseat = tuple(int(j) for j in i.split('_'))\n",
    "                selected_seats.append(cseat)\n",
    "                g1.append(cseat)\n",
    "            seating_groups.append(g1)\n",
    "\n",
    "    return selected_seats, seating_groups"
   ]
  },
  {
   "cell_type": "code",
   "execution_count": 7,
   "metadata": {
    "scrolled": false
   },
   "outputs": [],
   "source": [
    "def draw_solution(N, M, L, selected_seats, seating_groups):\n",
    "    # Creates a canvas to display result\n",
    "\n",
    "    W = 600\n",
    "    margin = 50\n",
    "    gap = 10\n",
    "    d = int((W-2*margin)/(len(M)))\n",
    "    H = d * len(N) + 2 * margin\n",
    "    radius = L * d\n",
    "    seat = d-gap\n",
    "    canvas = Canvas(width=W, height=H)\n",
    "    canvas.text_align = 'center'\n",
    "    canvas.text_baseline = 'middle'\n",
    "\n",
    "    stm = margin + gap/2\n",
    "\n",
    "    for i in N:\n",
    "        for j in M:\n",
    "            canvas.fill_style = 'lightgray'\n",
    "            canvas.fill_rect(stm + j*d, margin +  i*d, seat, seat)\n",
    "            canvas.fill_style = 'gray'\n",
    "            canvas.fill_rect(stm + j*d, margin +  i*d + int(3*d/5), seat, 1)\n",
    "            canvas.fill_style = 'black'\n",
    "            canvas.fill_text(f'({i}, {j})', stm+j*d+int(seat/2), margin+i*d+int(seat/2.5) - 5, 32)\n",
    "\n",
    "    canvas.fill_style = 'rgba(67, 168, 84, 0.50)'\n",
    "    for i in selected_seats:\n",
    "        canvas.fill_rect(stm+3 + i[1] * d, margin+3 + i[0] * d, d-gap-6, d-gap-6)\n",
    "\n",
    "    canvas.fill_style = 'rgba(221, 52, 14, 0.55)'\n",
    "    for i in selected_seats:\n",
    "        canvas.fill_arc(stm + i[1] * d + int(seat/2), margin + i[0]*d + int(seat/2), int(seat/10), 0, 2*pi, anticlockwise=False)\n",
    "\n",
    "    canvas.stroke_style = 'rgba(221, 52, 14, 0.7)'\n",
    "    for g in seating_groups:\n",
    "        #canvas.fill_style = 'rgba(221, 52, 14, 0.05)'\n",
    "        f0 = g[0]\n",
    "        f1 = g[-1]\n",
    "        left_center = stm + f0[1] * d + int(seat/2), margin + f0[0]*d + int(seat/2)\n",
    "        right_center = stm + f1[1] * d + int(seat/2), margin + f1[0]*d + int(seat/2)\n",
    "\n",
    "        canvas.begin_path()\n",
    "        canvas.arc(left_center[0], left_center[1], radius, pi/2, 3*pi/2, anticlockwise=False)\n",
    "        canvas.move_to(left_center[0], left_center[1]-radius)\n",
    "        canvas.line_to(right_center[0], right_center[1]-radius)\n",
    "        canvas.stroke()\n",
    "        canvas.move_to(right_center[0], right_center[1]+radius)\n",
    "        canvas.arc(right_center[0], right_center[1], radius, pi/2, 3*pi/2, anticlockwise=True)\n",
    "        canvas.stroke()\n",
    "        canvas.move_to(right_center[0], right_center[1]+radius)\n",
    "        canvas.line_to(left_center[0], left_center[1]+radius)\n",
    "        canvas.stroke()\n",
    "    \n",
    "    return canvas\n"
   ]
  },
  {
   "cell_type": "code",
   "execution_count": 8,
   "metadata": {},
   "outputs": [],
   "source": [
    "def define_and_solve(rows, cols, distance, only=None, lb=None, ub=None, max_group=4):\n",
    "    # Combines all the functions: Generate data, solve problem, parse solution and draw the canvas\n",
    "    \n",
    "    AG, ST = generate_data(rows, cols, distance, only, max_group)\n",
    "    m = solve_seating_problem(s, {'ALL_GROUPS': AG, 'SEATS': ST, 'L': distance}, lb, ub)\n",
    "    SS, SG = parse_solution(m)\n",
    "    c = draw_solution(range(rows), range(cols), distance, SS, SG)\n",
    "    return c, m"
   ]
  },
  {
   "cell_type": "code",
   "execution_count": 9,
   "metadata": {},
   "outputs": [],
   "source": [
    "class HiddenPrints:\n",
    "    # It is used for hiding logs during optimization\n",
    "    def __enter__(self):\n",
    "        self._original_stdout = sys.stdout\n",
    "        sys.stdout = open(os.devnull, 'w')\n",
    "\n",
    "    def __exit__(self, exc_type, exc_val, exc_tb):\n",
    "        sys.stdout.close()\n",
    "        sys.stdout = self._original_stdout"
   ]
  },
  {
   "cell_type": "code",
   "execution_count": 10,
   "metadata": {},
   "outputs": [],
   "source": [
    "from ipywidgets import VBox, HBox, Box, Layout, BoundedFloatText, Button, HTML, Label"
   ]
  },
  {
   "cell_type": "code",
   "execution_count": 11,
   "metadata": {},
   "outputs": [],
   "source": [
    "# Create a single-page web application\n",
    "\n",
    "# Control (on top)\n",
    "\n",
    "style = {'description_width':'130px'}\n",
    "layout = {'width': '300px'}\n",
    "rows = BoundedFloatText(value=7, min=1, max=50, description='Rows:', style=style, layout=layout)\n",
    "cols = BoundedFloatText(value=7, min=1, max=15, description='Columns:', style=style, layout=layout)\n",
    "dist = BoundedFloatText(value=4, min=0, max=5, description='Distance:', style=style, layout=layout)\n",
    "maxg = BoundedFloatText(value=2, min=1, max=10, description='Max Group Size:', style=style, layout=layout)\n",
    "styp = BoundedFloatText(value=0, min=0, max=5, description='Fixed Group Size:', style=style, layout=layout)\n",
    "\n",
    "opt_button = Button(description='Optimize')\n",
    "\n",
    "control_box = VBox([rows, cols, dist, maxg, styp, opt_button], layout=Layout(width='100%', align_items='center'))\n",
    "\n",
    "\n",
    "divider = HBox(layout=Layout(border='1px solid black', margin='auto', height='0px', width='90%'))\n",
    "\n",
    "# # Canvas (on bottom)\n",
    "\n",
    "load_img = HTML(value='<span style=\"height: 24px\">&nbsp;</span>')\n",
    "message_label = Label('')\n",
    "canvas_box = Box([], layout=Layout(margin='0 auto', min_height='800px', align_items='center'))\n",
    "\n",
    "left_box = VBox([load_img, message_label, canvas_box], layout=Layout(width='70%', margin='0', align_items='center'))\n",
    "\n",
    "bdivider = VBox(layout=Layout(border='1px solid black', margin='10px', width='0px'))\n",
    "\n",
    "def seat_text(val=None):\n",
    "    if val is None:\n",
    "        val = \"--\"\n",
    "    return f\"<center><font size='6pt'><b>Seats</b>:<br/>{val}</font></center><br/>\"\n",
    "def util_text(val=None):\n",
    "    if val is None:\n",
    "        val = \"--.--\"\n",
    "    return f\"<center><font size='6pt'><b>Utilization</b>:<br/>{val}%</font></center>\"\n",
    "\n",
    "label1 = HTML(value = seat_text())\n",
    "label2 = HTML(value = util_text())\n",
    "right_box = VBox([label1, label2], layout=Layout(width='30%', margin='56px 0px 0px 0px', align_items='center'))\n",
    "\n",
    "bottom_box = HBox([left_box, bdivider, right_box], layout=Layout())\n",
    "\n",
    "\n",
    "def reoptimize(b):\n",
    "    canvas_box.children = []\n",
    "    load_img.value = \"<img src='loader.svg' />\"\n",
    "    message_label.value = \"Optimizing...\"\n",
    "    label1.value = seat_text()\n",
    "    label2.value = util_text()\n",
    "    time.sleep(0.1)\n",
    "    only = int(styp.value) if styp.value != 0 else None\n",
    "    with HiddenPrints():\n",
    "        c, m = define_and_solve(rows=int(rows.value), cols=int(cols.value), distance=dist.value, only=only, max_group=int(maxg.value))\n",
    "    time.sleep(0.1)\n",
    "    label1.value = seat_text(int(m.get_objective_value()))\n",
    "    label2.value = util_text(f\"{100*m.get_objective_value()/(rows.value*cols.value):.2f}\")\n",
    "    \n",
    "    \n",
    "    load_img.value = '<span style=\"height: 24px\">&nbsp;</span>'\n",
    "    message_label.value = ''\n",
    "    time.sleep(0.1)\n",
    "    canvas_box.children = [c,]\n",
    "\n",
    "opt_button.on_click(reoptimize)\n",
    "\n",
    "widget = VBox([control_box, divider, bottom_box], layout=Layout(width='100%', min_height='80px', border='1px solid black'))"
   ]
  },
  {
   "cell_type": "code",
   "execution_count": 12,
   "metadata": {
    "scrolled": false
   },
   "outputs": [
    {
     "data": {
      "application/vnd.jupyter.widget-view+json": {
       "model_id": "af6f9e6120f047469d98f424306d4c46",
       "version_major": 2,
       "version_minor": 0
      },
      "text/plain": [
       "VBox(children=(VBox(children=(BoundedFloatText(value=7.0, description='Rows:', layout=Layout(width='300px'), m…"
      ]
     },
     "metadata": {},
     "output_type": "display_data"
    }
   ],
   "source": [
    "widget"
   ]
  },
  {
   "cell_type": "code",
   "execution_count": 14,
   "metadata": {},
   "outputs": [
    {
     "name": "stdout",
     "output_type": "stream",
     "text": [
      "       0      1      2      3      4      5      6\n",
      "0  00_00  00_01  00_02  00_03  00_04  00_05  00_06\n",
      "1  01_00  01_01  01_02  01_03  01_04  01_05  01_06\n",
      "2  02_00  02_01  02_02  02_03  02_04  02_05  02_06\n",
      "3  03_00  03_01  03_02  03_03  03_04  03_05  03_06\n",
      "4  04_00  04_01  04_02  04_03  04_04  04_05  04_06\n",
      "5  05_00  05_01  05_02  05_03  05_04  05_05  05_06\n",
      "6  06_00  06_01  06_02  06_03  06_04  06_05  06_06\n",
      "NOTE: Initialized model seating_model.\n",
      "NOTE: Added action set 'optimization'.\n",
      "NOTE: Converting model seating_model to OPTMODEL.\n",
      "NOTE: Submitting OPTMODEL code to CAS server.\n",
      "NOTE: Problem generation will use 8 threads.\n",
      "NOTE: The problem has 154 variables (0 free, 0 fixed).\n",
      "NOTE: The problem has 154 binary and 0 integer variables.\n",
      "NOTE: The problem has 203 linear constraints (203 LE, 0 EQ, 0 GE, 0 range).\n",
      "NOTE: The problem has 17969 linear constraint coefficients.\n",
      "NOTE: The problem has 0 nonlinear constraints (0 LE, 0 EQ, 0 GE, 0 range).\n",
      "NOTE: The remaining solution time after problem generation and solver initialization is 179.96 seconds.\n",
      "NOTE: The initial MILP heuristics are applied.\n",
      "NOTE: The MILP presolver value AUTOMATIC is applied.\n",
      "NOTE: The MILP presolver removed 0 variables and 0 constraints.\n",
      "NOTE: The MILP presolver removed 0 constraint coefficients.\n",
      "NOTE: The MILP presolver modified 641 constraint coefficients.\n",
      "NOTE: The presolved problem has 154 variables, 203 constraints, and 17969 constraint coefficients.\n",
      "NOTE: The MILP solver is called.\n",
      "NOTE: The parallel Branch and Cut algorithm is used.\n",
      "NOTE: The Branch and Cut algorithm is using up to 8 threads.\n",
      "             Node   Active   Sols    BestInteger      BestBound      Gap    Time\n",
      "                0        1      3      8.0000000     49.0000000   83.67%       1\n",
      "NOTE: The MILP solver's symmetry detection found 48 orbits. The largest orbit contains 4 variables.\n",
      "                0        1      3      8.0000000     13.0000000   38.46%       1\n",
      "                0        1      3      8.0000000     11.0000000   27.27%       1\n",
      "NOTE: The MILP presolver is applied again.\n",
      "                0        1      3      8.0000000     11.0000000   27.27%       2\n",
      "                0        1      3      8.0000000     11.0000000   27.27%       2\n",
      "NOTE: The MILP presolver is applied again.\n",
      "                0        1      3      8.0000000     11.0000000   27.27%       3\n",
      "                0        1      3      8.0000000     10.1130473   20.89%       3\n",
      "NOTE: The MILP presolver is applied again.\n",
      "                0        1      3      8.0000000      9.6505057   17.10%       3\n",
      "                0        1      3      8.0000000      9.2586987   13.59%       3\n",
      "                0        1      4      9.0000000      9.0000000    0.00%       3\n",
      "NOTE: The MILP solver added 12 cuts with 124 cut coefficients at the root.\n",
      "NOTE: Optimal.\n",
      "NOTE: Objective = 9.\n",
      "NOTE: The output table 'SOLUTION' in caslib 'CASUSER(sercay@CARYNT)' has 154 rows and 6 columns.\n",
      "NOTE: The output table 'DUAL' in caslib 'CASUSER(sercay@CARYNT)' has 203 rows and 4 columns.\n",
      "NOTE: The CAS table 'solutionSummary' in caslib 'CASUSER(sercay@CARYNT)' has 18 rows and 4 columns.\n",
      "NOTE: The CAS table 'problemSummary' in caslib 'CASUSER(sercay@CARYNT)' has 20 rows and 4 columns.\n",
      "x['03_06']\n",
      "x['00_00n00_01n00_02n00_03']\n",
      "x['06_00n06_01n06_02n06_03']\n"
     ]
    },
    {
     "data": {
      "application/vnd.jupyter.widget-view+json": {
       "model_id": "7301de7e4b024272a7166fd65e73f675",
       "version_major": 2,
       "version_minor": 0
      },
      "text/plain": [
       "Canvas(height=597, width=600)"
      ]
     },
     "metadata": {},
     "output_type": "display_data"
    }
   ],
   "source": [
    "define_and_solve(rows=7, cols=7, distance=4, max_group=4)[0]"
   ]
  },
  {
   "cell_type": "code",
   "execution_count": 15,
   "metadata": {},
   "outputs": [
    {
     "data": {
      "image/png": "[encoded data removed]",
      "text/plain": [
       "<IPython.core.display.Image object>"
      ]
     },
     "execution_count": 15,
     "metadata": {},
     "output_type": "execute_result"
    }
   ],
   "source": [
    "# Display sample output (for Web View)\n",
    "from IPython.display import Image\n",
    "Image(filename='sample_seating.png') "
   ]
  }
 ],
 "metadata": {
  "kernelspec": {
   "display_name": "Python 3",
   "language": "python",
   "name": "python3"
  },
  "language_info": {
   "codemirror_mode": {
    "name": "ipython",
    "version": 3
   },
   "file_extension": ".py",
   "mimetype": "text/x-python",
   "name": "python",
   "nbconvert_exporter": "python",
   "pygments_lexer": "ipython3",
   "version": "3.6.5"
  },
  "widgets": {
   "application/vnd.jupyter.widget-state+json": {
    "state": {
     "002f0fca14d74fdbaf6fc344016bdb34": {
      "model_module": "ipycanvas",
      "model_module_version": "^0.4.3",
      "model_name": "CanvasModel",
      "state": {
       "_model_module_version": "^0.4.3",
       "_view_module_version": "^0.4.3",
       "height": 1600,
       "layout": "IPY_MODEL_1b42f2ae0d714dca94e3e5c3f06d67c4",
       "width": 800
      }
     },
     "00e3ea3cfc9d4cd3a00292630c1c7f6c": {
      "model_module": "@jupyter-widgets/base",
      "model_module_version": "1.2.0",
      "model_name": "LayoutModel",
      "state": {}
     },
     "0130715719124beab2e592fe125146c5": {
      "model_module": "@jupyter-widgets/base",
      "model_module_version": "1.2.0",
      "model_name": "LayoutModel",
      "state": {}
     },
     "02af687518bd45498f646d19d6aba96d": {
      "model_module": "ipycanvas",
      "model_module_version": "^0.4.3",
      "model_name": "CanvasModel",
      "state": {
       "_model_module_version": "^0.4.3",
       "_view_module_version": "^0.4.3",
       "height": 1800,
       "layout": "IPY_MODEL_e85254313ff243d9a9bf6fd4e0d9d534",
       "width": 980
      }
     },
     "02b248c120d5479f8382dac60e015ee3": {
      "model_module": "@jupyter-widgets/base",
      "model_module_version": "1.2.0",
      "model_name": "LayoutModel",
      "state": {}
     },
     "02c36f3560104f149211b2212f4b0c75": {
      "model_module": "ipycanvas",
      "model_module_version": "^0.4.3",
      "model_name": "CanvasModel",
      "state": {
       "_model_module_version": "^0.4.3",
       "_view_module_version": "^0.4.3",
       "height": 1600,
       "layout": "IPY_MODEL_b0fc7956e15e441e9865eab5cfaa1b98",
       "width": 800
      }
     },
     "03fa9dd2454341e69b74c89466fbc4b7": {
      "model_module": "@jupyter-widgets/base",
      "model_module_version": "1.2.0",
      "model_name": "LayoutModel",
      "state": {}
     },
     "05263fe95b6f4126a5c95e35cb33c11e": {
      "model_module": "@jupyter-widgets/base",
      "model_module_version": "1.2.0",
      "model_name": "LayoutModel",
      "state": {}
     },
     "053156bff37045fc858132c162df74e3": {
      "model_module": "ipycanvas",
      "model_module_version": "^0.4.3",
      "model_name": "CanvasModel",
      "state": {
       "_model_module_version": "^0.4.3",
       "_view_module_version": "^0.4.3",
       "height": 600,
       "layout": "IPY_MODEL_8d5344a2766a41a593ea00013f1f8eed",
       "width": 600
      }
     },
     "055c11eed5f34d2098e4e6c8eb48cfb1": {
      "model_module": "ipycanvas",
      "model_module_version": "^0.4.3",
      "model_name": "CanvasModel",
      "state": {
       "_model_module_version": "^0.4.3",
       "_view_module_version": "^0.4.3",
       "height": 1800,
       "layout": "IPY_MODEL_ecef90f6fc80406296e4c2efd4c4924b",
       "width": 980
      }
     },
     "0669f88b32e44eb9962b50aa21de47fc": {
      "model_module": "ipycanvas",
      "model_module_version": "^0.4.3",
      "model_name": "CanvasModel",
      "state": {
       "_model_module_version": "^0.4.3",
       "_view_module_version": "^0.4.3",
       "height": 1800,
       "layout": "IPY_MODEL_55eee7d992554c9c85fdcbd4886ddd12",
       "width": 980
      }
     },
     "068ccc2b787d4573bbe65516615faffd": {
      "model_module": "@jupyter-widgets/base",
      "model_module_version": "1.2.0",
      "model_name": "LayoutModel",
      "state": {}
     },
     "08b158cab30345c785046956a80d7f85": {
      "model_module": "ipycanvas",
      "model_module_version": "^0.4.3",
      "model_name": "CanvasModel",
      "state": {
       "_model_module_version": "^0.4.3",
       "_view_module_version": "^0.4.3",
       "height": 600,
       "layout": "IPY_MODEL_887b1229f90e4784b98c04116f351cce",
       "width": 600
      }
     },
     "0a0346b44bb74a15b9afe262f91c3958": {
      "model_module": "@jupyter-widgets/base",
      "model_module_version": "1.2.0",
      "model_name": "LayoutModel",
      "state": {}
     },
     "0a6feee8264049deb04e820cc0818f8f": {
      "model_module": "ipycanvas",
      "model_module_version": "^0.4.3",
      "model_name": "CanvasModel",
      "state": {
       "_model_module_version": "^0.4.3",
       "_view_module_version": "^0.4.3",
       "height": 600,
       "layout": "IPY_MODEL_1a115c230b7a4ccf81d48e1a813b0448",
       "width": 600
      }
     },
     "0aa15b1e36d5405c834b3be40ae7a63c": {
      "model_module": "ipycanvas",
      "model_module_version": "^0.4.3",
      "model_name": "CanvasModel",
      "state": {
       "_model_module_version": "^0.4.3",
       "_view_module_version": "^0.4.3",
       "height": 1600,
       "layout": "IPY_MODEL_b642f3724c3a4fe8a8e443e9b4e5a638",
       "width": 800
      }
     },
     "0afd6dcebe5a456ab887b13700218157": {
      "model_module": "ipycanvas",
      "model_module_version": "^0.4.3",
      "model_name": "CanvasModel",
      "state": {
       "_model_module_version": "^0.4.3",
       "_view_module_version": "^0.4.3",
       "height": 800,
       "layout": "IPY_MODEL_1b3fddb23594445187cc200a3dd10fe9",
       "width": 800
      }
     },
     "0baf4f3f48b64bc48794c95b37d6703f": {
      "model_module": "ipycanvas",
      "model_module_version": "^0.4.3",
      "model_name": "CanvasModel",
      "state": {
       "_model_module_version": "^0.4.3",
       "_view_module_version": "^0.4.3",
       "height": 1800,
       "layout": "IPY_MODEL_e342d91adc6f4ad79763377c9f2f63cb",
       "width": 980
      }
     },
     "0c39a4b4ec4e4cb1af36fef68309e2fe": {
      "model_module": "@jupyter-widgets/base",
      "model_module_version": "1.2.0",
      "model_name": "LayoutModel",
      "state": {}
     },
     "0c9230879e5141d1b897c3de3a116ceb": {
      "model_module": "ipycanvas",
      "model_module_version": "^0.4.3",
      "model_name": "CanvasModel",
      "state": {
       "_model_module_version": "^0.4.3",
       "_view_module_version": "^0.4.3",
       "height": 600,
       "layout": "IPY_MODEL_856cc00f961648a9b25a6ef512511762",
       "width": 600
      }
     },
     "0d29241707b64cd892b8bf0abaacdbf9": {
      "model_module": "@jupyter-widgets/base",
      "model_module_version": "1.2.0",
      "model_name": "LayoutModel",
      "state": {}
     },
     "0db03840f3e343598ac4117c979afc58": {
      "model_module": "ipycanvas",
      "model_module_version": "^0.4.3",
      "model_name": "CanvasModel",
      "state": {
       "_model_module_version": "^0.4.3",
       "_view_module_version": "^0.4.3",
       "height": 800,
       "layout": "IPY_MODEL_d54b1db0da3a46b382824bd27615fcbf",
       "width": 800
      }
     },
     "0dc7fd68e49b4ae5a8b67cfe616aa756": {
      "model_module": "ipycanvas",
      "model_module_version": "^0.4.3",
      "model_name": "CanvasModel",
      "state": {
       "_model_module_version": "^0.4.3",
       "_view_module_version": "^0.4.3",
       "height": 1800,
       "layout": "IPY_MODEL_386fda753d6f431c93d1189eae51cff5",
       "width": 980
      }
     },
     "0e7a6d5e951843928dfd182bd76d8ec8": {
      "model_module": "ipycanvas",
      "model_module_version": "^0.4.3",
      "model_name": "CanvasModel",
      "state": {
       "_model_module_version": "^0.4.3",
       "_view_module_version": "^0.4.3",
       "height": 600,
       "layout": "IPY_MODEL_143adff011f8405aa6594d32f253dbb3",
       "width": 600
      }
     },
     "0eabd95fe59d4865a7edfd2d1780f377": {
      "model_module": "@jupyter-widgets/base",
      "model_module_version": "1.2.0",
      "model_name": "LayoutModel",
      "state": {}
     },
     "0fb428d180bb46d1b86734872a48005d": {
      "model_module": "@jupyter-widgets/base",
      "model_module_version": "1.2.0",
      "model_name": "LayoutModel",
      "state": {}
     },
     "10d4375e855a4e02b18c2c9693369448": {
      "model_module": "ipycanvas",
      "model_module_version": "^0.4.3",
      "model_name": "CanvasModel",
      "state": {
       "_model_module_version": "^0.4.3",
       "_view_module_version": "^0.4.3",
       "height": 600,
       "layout": "IPY_MODEL_1d4d5ccfc2714787a4f870bb83d45fa0",
       "width": 600
      }
     },
     "1160d227d8794dc6bb61e8628b5ce830": {
      "model_module": "@jupyter-widgets/base",
      "model_module_version": "1.2.0",
      "model_name": "LayoutModel",
      "state": {}
     },
     "13325c85caf34124a2b7baae59774913": {
      "model_module": "ipycanvas",
      "model_module_version": "^0.4.3",
      "model_name": "CanvasModel",
      "state": {
       "_model_module_version": "^0.4.3",
       "_view_module_version": "^0.4.3",
       "height": 800,
       "layout": "IPY_MODEL_ecf55062288e4fa5aa1e0aba618f3841",
       "width": 800
      }
     },
     "135b1db497874829af388ae1dedc08e5": {
      "model_module": "ipycanvas",
      "model_module_version": "^0.4.3",
      "model_name": "CanvasModel",
      "state": {
       "_model_module_version": "^0.4.3",
       "_view_module_version": "^0.4.3",
       "height": 800,
       "layout": "IPY_MODEL_2a61515e8e5f4fd4bfd0f83040f51584",
       "width": 800
      }
     },
     "143adff011f8405aa6594d32f253dbb3": {
      "model_module": "@jupyter-widgets/base",
      "model_module_version": "1.2.0",
      "model_name": "LayoutModel",
      "state": {}
     },
     "14488d1cb07f41a3a47b154ccbcb6b46": {
      "model_module": "ipycanvas",
      "model_module_version": "^0.4.3",
      "model_name": "CanvasModel",
      "state": {
       "_model_module_version": "^0.4.3",
       "_view_module_version": "^0.4.3",
       "height": 1800,
       "layout": "IPY_MODEL_33d7584277ac466d8e70664d0c98a353",
       "width": 980
      }
     },
     "16ac957893e743a5b1b474369a078fa0": {
      "model_module": "@jupyter-widgets/base",
      "model_module_version": "1.2.0",
      "model_name": "LayoutModel",
      "state": {}
     },
     "1753c02249804edeb73c29c9faa5171e": {
      "model_module": "ipycanvas",
      "model_module_version": "^0.4.3",
      "model_name": "CanvasModel",
      "state": {
       "_model_module_version": "^0.4.3",
       "_view_module_version": "^0.4.3",
       "layout": "IPY_MODEL_fff3e090eb804db397dc643ae1376930",
       "width": 400
      }
     },
     "18de7c3447194481baa9ec709eeb8a95": {
      "model_module": "@jupyter-widgets/base",
      "model_module_version": "1.2.0",
      "model_name": "LayoutModel",
      "state": {}
     },
     "1a115c230b7a4ccf81d48e1a813b0448": {
      "model_module": "@jupyter-widgets/base",
      "model_module_version": "1.2.0",
      "model_name": "LayoutModel",
      "state": {}
     },
     "1a1dd191a3954b1e821e88b1924cbce8": {
      "model_module": "@jupyter-widgets/base",
      "model_module_version": "1.2.0",
      "model_name": "LayoutModel",
      "state": {}
     },
     "1a93481e5f21426baa360cc036e3654d": {
      "model_module": "ipycanvas",
      "model_module_version": "^0.4.3",
      "model_name": "CanvasModel",
      "state": {
       "_model_module_version": "^0.4.3",
       "_view_module_version": "^0.4.3",
       "height": 600,
       "layout": "IPY_MODEL_3e9ca8bd20864413bc902729b1d73bc9",
       "width": 600
      }
     },
     "1b3fddb23594445187cc200a3dd10fe9": {
      "model_module": "@jupyter-widgets/base",
      "model_module_version": "1.2.0",
      "model_name": "LayoutModel",
      "state": {}
     },
     "1b42f2ae0d714dca94e3e5c3f06d67c4": {
      "model_module": "@jupyter-widgets/base",
      "model_module_version": "1.2.0",
      "model_name": "LayoutModel",
      "state": {}
     },
     "1b6e3edae8764a7786b3096128e250f7": {
      "model_module": "@jupyter-widgets/base",
      "model_module_version": "1.2.0",
      "model_name": "LayoutModel",
      "state": {}
     },
     "1bb52943da1c4eedbe8af53388940ebb": {
      "model_module": "@jupyter-widgets/base",
      "model_module_version": "1.2.0",
      "model_name": "LayoutModel",
      "state": {}
     },
     "1c8dc0a2c2b64cc5acc4be33c3b32f2c": {
      "model_module": "ipycanvas",
      "model_module_version": "^0.4.3",
      "model_name": "CanvasModel",
      "state": {
       "_model_module_version": "^0.4.3",
       "_view_module_version": "^0.4.3",
       "height": 600,
       "layout": "IPY_MODEL_e7f0b4d680a54852b31489af82b6a4d2",
       "width": 600
      }
     },
     "1cc849f1cca54315a660f47bec91fc83": {
      "model_module": "@jupyter-widgets/base",
      "model_module_version": "1.2.0",
      "model_name": "LayoutModel",
      "state": {}
     },
     "1d4d5ccfc2714787a4f870bb83d45fa0": {
      "model_module": "@jupyter-widgets/base",
      "model_module_version": "1.2.0",
      "model_name": "LayoutModel",
      "state": {}
     },
     "1d59b6c8699a438a914c4df31500958e": {
      "model_module": "@jupyter-widgets/base",
      "model_module_version": "1.2.0",
      "model_name": "LayoutModel",
      "state": {}
     },
     "20a0b415e2704f7a98cd6ec0c9363da1": {
      "model_module": "@jupyter-widgets/base",
      "model_module_version": "1.2.0",
      "model_name": "LayoutModel",
      "state": {}
     },
     "20fd99e108954c0b8dca5ceea50fe181": {
      "model_module": "@jupyter-widgets/base",
      "model_module_version": "1.2.0",
      "model_name": "LayoutModel",
      "state": {}
     },
     "217f7610cdbd4f5db26dede3ca95c4ce": {
      "model_module": "@jupyter-widgets/base",
      "model_module_version": "1.2.0",
      "model_name": "LayoutModel",
      "state": {}
     },
     "22ee33e48b024e42a0486f01f0f07db5": {
      "model_module": "ipycanvas",
      "model_module_version": "^0.4.3",
      "model_name": "CanvasModel",
      "state": {
       "_model_module_version": "^0.4.3",
       "_view_module_version": "^0.4.3",
       "height": 1800,
       "layout": "IPY_MODEL_844455d4a5ee4f30801e315ecc5fcbdd",
       "width": 980
      }
     },
     "233e1d2f8f6b49fb9223db001cddaf11": {
      "model_module": "@jupyter-widgets/base",
      "model_module_version": "1.2.0",
      "model_name": "LayoutModel",
      "state": {}
     },
     "24eff5287f174dc0b1d1fda2d3ea97ef": {
      "model_module": "@jupyter-widgets/base",
      "model_module_version": "1.2.0",
      "model_name": "LayoutModel",
      "state": {}
     },
     "25ee10c7c60647ab8ec0adeaa19d1bd0": {
      "model_module": "ipycanvas",
      "model_module_version": "^0.4.3",
      "model_name": "CanvasModel",
      "state": {
       "_model_module_version": "^0.4.3",
       "_view_module_version": "^0.4.3",
       "height": 1600,
       "layout": "IPY_MODEL_ef6d2d11766940e09bdc6a761a0110b8",
       "width": 800
      }
     },
     "26c788b318e142ff81023b9e73f9208f": {
      "model_module": "@jupyter-widgets/base",
      "model_module_version": "1.2.0",
      "model_name": "LayoutModel",
      "state": {}
     },
     "2711ced060f04fd88a5c497021611983": {
      "model_module": "ipycanvas",
      "model_module_version": "^0.4.3",
      "model_name": "CanvasModel",
      "state": {
       "_model_module_version": "^0.4.3",
       "_view_module_version": "^0.4.3",
       "height": 600,
       "layout": "IPY_MODEL_aefdaef8375c42fdb44f6dbf22c2240a",
       "width": 600
      }
     },
     "275df1c92dc34d48964f37820d0695b7": {
      "model_module": "ipycanvas",
      "model_module_version": "^0.4.3",
      "model_name": "CanvasModel",
      "state": {
       "_model_module_version": "^0.4.3",
       "_view_module_version": "^0.4.3",
       "height": 1800,
       "layout": "IPY_MODEL_c0054ad67b874deca98881cdcabc4a7a",
       "width": 980
      }
     },
     "27f7359b1b2745b0a6238129a5e2a2ca": {
      "model_module": "ipycanvas",
      "model_module_version": "^0.4.3",
      "model_name": "CanvasModel",
      "state": {
       "_model_module_version": "^0.4.3",
       "_view_module_version": "^0.4.3",
       "height": 600,
       "layout": "IPY_MODEL_3fed539ee6074d57b5f676ed21b31cf9",
       "width": 600
      }
     },
     "283fa49b932045c48a85547708d098d7": {
      "model_module": "@jupyter-widgets/base",
      "model_module_version": "1.2.0",
      "model_name": "LayoutModel",
      "state": {}
     },
     "28b21b1a2b004943bae4f639cfd5703d": {
      "model_module": "@jupyter-widgets/base",
      "model_module_version": "1.2.0",
      "model_name": "LayoutModel",
      "state": {}
     },
     "28f7410308b7458db157f2663942f067": {
      "model_module": "@jupyter-widgets/base",
      "model_module_version": "1.2.0",
      "model_name": "LayoutModel",
      "state": {}
     },
     "291ec3f883b741e78dfe05355e95dc02": {
      "model_module": "@jupyter-widgets/base",
      "model_module_version": "1.2.0",
      "model_name": "LayoutModel",
      "state": {}
     },
     "2983740d2431481f89e0dff5b6e1c3ff": {
      "model_module": "ipycanvas",
      "model_module_version": "^0.4.3",
      "model_name": "CanvasModel",
      "state": {
       "_model_module_version": "^0.4.3",
       "_view_module_version": "^0.4.3",
       "height": 1800,
       "layout": "IPY_MODEL_7cb9d937fba546a3bfd134d03adcb14b",
       "width": 980
      }
     },
     "29ddfa419a29412bbbb97c1b95e3e87e": {
      "model_module": "ipycanvas",
      "model_module_version": "^0.4.3",
      "model_name": "CanvasModel",
      "state": {
       "_model_module_version": "^0.4.3",
       "_view_module_version": "^0.4.3",
       "height": 1800,
       "layout": "IPY_MODEL_433f28fd7d944631ac7730e44d319fd5",
       "width": 980
      }
     },
     "2a61515e8e5f4fd4bfd0f83040f51584": {
      "model_module": "@jupyter-widgets/base",
      "model_module_version": "1.2.0",
      "model_name": "LayoutModel",
      "state": {}
     },
     "2a6600855e3941c29f8decb12368de5b": {
      "model_module": "ipycanvas",
      "model_module_version": "^0.4.3",
      "model_name": "CanvasModel",
      "state": {
       "_model_module_version": "^0.4.3",
       "_view_module_version": "^0.4.3",
       "height": 1600,
       "layout": "IPY_MODEL_16ac957893e743a5b1b474369a078fa0",
       "width": 800
      }
     },
     "2ac10fa22769482682a03fc572bcd04c": {
      "model_module": "ipycanvas",
      "model_module_version": "^0.4.3",
      "model_name": "CanvasModel",
      "state": {
       "_model_module_version": "^0.4.3",
       "_view_module_version": "^0.4.3",
       "layout": "IPY_MODEL_1cc849f1cca54315a660f47bec91fc83",
       "width": 400
      }
     },
     "2bb31500baf243019699200dc1b42c78": {
      "model_module": "@jupyter-widgets/base",
      "model_module_version": "1.2.0",
      "model_name": "LayoutModel",
      "state": {}
     },
     "2e49b8cd8a914f66917a51a95c2a0acf": {
      "model_module": "ipycanvas",
      "model_module_version": "^0.4.3",
      "model_name": "CanvasModel",
      "state": {
       "_model_module_version": "^0.4.3",
       "_view_module_version": "^0.4.3",
       "height": 1800,
       "layout": "IPY_MODEL_1160d227d8794dc6bb61e8628b5ce830",
       "width": 980
      }
     },
     "2f9fde6088814e12bb6833e887b3d9c8": {
      "model_module": "ipycanvas",
      "model_module_version": "^0.4.3",
      "model_name": "CanvasModel",
      "state": {
       "_model_module_version": "^0.4.3",
       "_view_module_version": "^0.4.3",
       "height": 600,
       "layout": "IPY_MODEL_61dbe585e1984955ac36251d52d255bb",
       "width": 600
      }
     },
     "300909d05845498582c52392d00d7dce": {
      "model_module": "ipycanvas",
      "model_module_version": "^0.4.3",
      "model_name": "CanvasModel",
      "state": {
       "_model_module_version": "^0.4.3",
       "_view_module_version": "^0.4.3",
       "height": 1800,
       "layout": "IPY_MODEL_7d76861e540a4909883a05a1f4b602a2",
       "width": 980
      }
     },
     "33d7584277ac466d8e70664d0c98a353": {
      "model_module": "@jupyter-widgets/base",
      "model_module_version": "1.2.0",
      "model_name": "LayoutModel",
      "state": {}
     },
     "341b6672134c47f0a2989baf9c996cbb": {
      "model_module": "ipycanvas",
      "model_module_version": "^0.4.3",
      "model_name": "CanvasModel",
      "state": {
       "_model_module_version": "^0.4.3",
       "_view_module_version": "^0.4.3",
       "height": 600,
       "layout": "IPY_MODEL_948f9227091449ef979f6f7a4e1fb3c2",
       "width": 600
      }
     },
     "35a2141d4e4d40e1b8ec9146d9c4f11e": {
      "model_module": "ipycanvas",
      "model_module_version": "^0.4.3",
      "model_name": "CanvasModel",
      "state": {
       "_model_module_version": "^0.4.3",
       "_view_module_version": "^0.4.3",
       "height": 1800,
       "layout": "IPY_MODEL_58ebf8d51efb46d3a8d2724f32b6a1ac",
       "width": 980
      }
     },
     "36052283802e4db9abb587b56547a122": {
      "model_module": "ipycanvas",
      "model_module_version": "^0.4.3",
      "model_name": "CanvasModel",
      "state": {
       "_model_module_version": "^0.4.3",
       "_view_module_version": "^0.4.3",
       "layout": "IPY_MODEL_a97fd70368574998903e219c72697298",
       "width": 400
      }
     },
     "3679d0825ed74fa89a16ca0eefde8e80": {
      "model_module": "@jupyter-widgets/base",
      "model_module_version": "1.2.0",
      "model_name": "LayoutModel",
      "state": {}
     },
     "368642ee263c4590b94a1b4dcb3eeecb": {
      "model_module": "ipycanvas",
      "model_module_version": "^0.4.3",
      "model_name": "CanvasModel",
      "state": {
       "_model_module_version": "^0.4.3",
       "_view_module_version": "^0.4.3",
       "height": 1800,
       "layout": "IPY_MODEL_67727349ad9242cab988ce00280583bd",
       "width": 980
      }
     },
     "373e173c12b744a3a914328442b0cdd2": {
      "model_module": "ipycanvas",
      "model_module_version": "^0.4.3",
      "model_name": "CanvasModel",
      "state": {
       "_model_module_version": "^0.4.3",
       "_view_module_version": "^0.4.3",
       "height": 1800,
       "layout": "IPY_MODEL_eceba27cb9cd44c1a9a9cdf795070fa4",
       "width": 980
      }
     },
     "37815d5b487f4287928420c1b10b3f66": {
      "model_module": "ipycanvas",
      "model_module_version": "^0.4.3",
      "model_name": "CanvasModel",
      "state": {
       "_model_module_version": "^0.4.3",
       "_view_module_version": "^0.4.3",
       "height": 800,
       "layout": "IPY_MODEL_c8d1184b20c94a60aa09219d138f3482",
       "width": 800
      }
     },
     "37d1b2e878b441dea62330e6be1154f9": {
      "model_module": "ipycanvas",
      "model_module_version": "^0.4.3",
      "model_name": "CanvasModel",
      "state": {
       "_model_module_version": "^0.4.3",
       "_view_module_version": "^0.4.3",
       "layout": "IPY_MODEL_e57b031976c946ee8caaba1960f2b8b7",
       "width": 400
      }
     },
     "381b497e506845589075f405b96df705": {
      "model_module": "@jupyter-widgets/base",
      "model_module_version": "1.2.0",
      "model_name": "LayoutModel",
      "state": {}
     },
     "3850ed6e1ed049fba2b8e7a878eb9714": {
      "model_module": "@jupyter-widgets/base",
      "model_module_version": "1.2.0",
      "model_name": "LayoutModel",
      "state": {}
     },
     "386fda753d6f431c93d1189eae51cff5": {
      "model_module": "@jupyter-widgets/base",
      "model_module_version": "1.2.0",
      "model_name": "LayoutModel",
      "state": {}
     },
     "398f3494e0b3494ab66a8b5f21403c52": {
      "model_module": "ipycanvas",
      "model_module_version": "^0.4.3",
      "model_name": "CanvasModel",
      "state": {
       "_model_module_version": "^0.4.3",
       "_view_module_version": "^0.4.3",
       "height": 1600,
       "layout": "IPY_MODEL_9c32f9bc1b3e4058a1e58b8d03805008",
       "width": 800
      }
     },
     "3ae3b2e4c79a49ca9ce3090d0a88a328": {
      "model_module": "@jupyter-widgets/base",
      "model_module_version": "1.2.0",
      "model_name": "LayoutModel",
      "state": {}
     },
     "3c4beac1ff854f598e5fefb762f04bed": {
      "model_module": "@jupyter-widgets/base",
      "model_module_version": "1.2.0",
      "model_name": "LayoutModel",
      "state": {}
     },
     "3cf86547a7f04ed193ba0e6fbbd93fc2": {
      "model_module": "ipycanvas",
      "model_module_version": "^0.4.3",
      "model_name": "CanvasModel",
      "state": {
       "_model_module_version": "^0.4.3",
       "_view_module_version": "^0.4.3",
       "height": 1800,
       "layout": "IPY_MODEL_660895dcd843471eb8a08e185f9f1dbc",
       "width": 980
      }
     },
     "3e9ca8bd20864413bc902729b1d73bc9": {
      "model_module": "@jupyter-widgets/base",
      "model_module_version": "1.2.0",
      "model_name": "LayoutModel",
      "state": {}
     },
     "3ebfc4e37b2b4df6b79c496f9f0b2b67": {
      "model_module": "ipycanvas",
      "model_module_version": "^0.4.3",
      "model_name": "CanvasModel",
      "state": {
       "_model_module_version": "^0.4.3",
       "_view_module_version": "^0.4.3",
       "height": 600,
       "layout": "IPY_MODEL_d0a08f62d2c6451da87e9eb5c0c2c489",
       "width": 600
      }
     },
     "3fed539ee6074d57b5f676ed21b31cf9": {
      "model_module": "@jupyter-widgets/base",
      "model_module_version": "1.2.0",
      "model_name": "LayoutModel",
      "state": {}
     },
     "40b5a68a74a9463595a769bbb5e44e40": {
      "model_module": "@jupyter-widgets/base",
      "model_module_version": "1.2.0",
      "model_name": "LayoutModel",
      "state": {}
     },
     "40d1a51c3fd2422690b611b18f5c6eec": {
      "model_module": "@jupyter-widgets/base",
      "model_module_version": "1.2.0",
      "model_name": "LayoutModel",
      "state": {}
     },
     "418f35709d5a440daa541c01f31a8b2a": {
      "model_module": "ipycanvas",
      "model_module_version": "^0.4.3",
      "model_name": "CanvasModel",
      "state": {
       "_model_module_version": "^0.4.3",
       "_view_module_version": "^0.4.3",
       "height": 1800,
       "layout": "IPY_MODEL_0c39a4b4ec4e4cb1af36fef68309e2fe",
       "width": 980
      }
     },
     "41a77276da5d446dadcf410ca443346b": {
      "model_module": "ipycanvas",
      "model_module_version": "^0.4.3",
      "model_name": "CanvasModel",
      "state": {
       "_model_module_version": "^0.4.3",
       "_view_module_version": "^0.4.3",
       "layout": "IPY_MODEL_af319434834c4e5badb1ca3ee93c9e19",
       "width": 400
      }
     },
     "42328d38b79d4cad9d6e60f73e805b90": {
      "model_module": "ipycanvas",
      "model_module_version": "^0.4.3",
      "model_name": "CanvasModel",
      "state": {
       "_model_module_version": "^0.4.3",
       "_view_module_version": "^0.4.3",
       "height": 1600,
       "layout": "IPY_MODEL_d59c2b2b548d40469f5135c632697ccd",
       "width": 800
      }
     },
     "433f28fd7d944631ac7730e44d319fd5": {
      "model_module": "@jupyter-widgets/base",
      "model_module_version": "1.2.0",
      "model_name": "LayoutModel",
      "state": {}
     },
     "449d8ecbfa00410292a73e160c1bd68c": {
      "model_module": "@jupyter-widgets/base",
      "model_module_version": "1.2.0",
      "model_name": "LayoutModel",
      "state": {}
     },
     "460db48ad4f947dc824ad45a04370caa": {
      "model_module": "@jupyter-widgets/base",
      "model_module_version": "1.2.0",
      "model_name": "LayoutModel",
      "state": {}
     },
     "476d923579a647269418cbb3e22bc422": {
      "model_module": "@jupyter-widgets/base",
      "model_module_version": "1.2.0",
      "model_name": "LayoutModel",
      "state": {}
     },
     "484d7b51bce74db79f45c5b3679c7535": {
      "model_module": "ipycanvas",
      "model_module_version": "^0.4.3",
      "model_name": "CanvasModel",
      "state": {
       "_model_module_version": "^0.4.3",
       "_view_module_version": "^0.4.3",
       "height": 600,
       "layout": "IPY_MODEL_a30f334ea56742629e21baa1bfd292da",
       "width": 600
      }
     },
     "487a55d354924584a487bcb24756bd19": {
      "model_module": "@jupyter-widgets/base",
      "model_module_version": "1.2.0",
      "model_name": "LayoutModel",
      "state": {}
     },
     "4957da3f9b5c4daa9c13ddd46ceb448f": {
      "model_module": "ipycanvas",
      "model_module_version": "^0.4.3",
      "model_name": "CanvasModel",
      "state": {
       "_model_module_version": "^0.4.3",
       "_view_module_version": "^0.4.3",
       "height": 600,
       "layout": "IPY_MODEL_f9a74d755c4043a1a00948af8e6f5178",
       "width": 600
      }
     },
     "4a71293b44894288a0d6994bd06e2aff": {
      "model_module": "@jupyter-widgets/base",
      "model_module_version": "1.2.0",
      "model_name": "LayoutModel",
      "state": {}
     },
     "4b8402f775724c348e56f12e5c7612cc": {
      "model_module": "@jupyter-widgets/base",
      "model_module_version": "1.2.0",
      "model_name": "LayoutModel",
      "state": {}
     },
     "4bd7168158fb487392da09b78faa65f7": {
      "model_module": "ipycanvas",
      "model_module_version": "^0.4.3",
      "model_name": "CanvasModel",
      "state": {
       "_model_module_version": "^0.4.3",
       "_view_module_version": "^0.4.3",
       "layout": "IPY_MODEL_d5900cd6dd3544d09764759e9c855fbe",
       "width": 400
      }
     },
     "4c2eea8bccdf4f679c8ac4043c635ddf": {
      "model_module": "ipycanvas",
      "model_module_version": "^0.4.3",
      "model_name": "CanvasModel",
      "state": {
       "_model_module_version": "^0.4.3",
       "_view_module_version": "^0.4.3",
       "height": 1600,
       "layout": "IPY_MODEL_03fa9dd2454341e69b74c89466fbc4b7",
       "width": 800
      }
     },
     "4db48080aba6493f8661213448836b7f": {
      "model_module": "@jupyter-widgets/base",
      "model_module_version": "1.2.0",
      "model_name": "LayoutModel",
      "state": {}
     },
     "53cf220ff0b7458aafddad89989e815a": {
      "model_module": "ipycanvas",
      "model_module_version": "^0.4.3",
      "model_name": "CanvasModel",
      "state": {
       "_model_module_version": "^0.4.3",
       "_view_module_version": "^0.4.3",
       "height": 1800,
       "layout": "IPY_MODEL_cd2a101290e242b4aa171e5af0e98034",
       "width": 980
      }
     },
     "55eee7d992554c9c85fdcbd4886ddd12": {
      "model_module": "@jupyter-widgets/base",
      "model_module_version": "1.2.0",
      "model_name": "LayoutModel",
      "state": {}
     },
     "569fa091d53546c9bdf89a6ba7d672c3": {
      "model_module": "ipycanvas",
      "model_module_version": "^0.4.3",
      "model_name": "CanvasModel",
      "state": {
       "_model_module_version": "^0.4.3",
       "_view_module_version": "^0.4.3",
       "layout": "IPY_MODEL_fa1a45c45eb84534974a4a398c78a7f4",
       "width": 400
      }
     },
     "580b85e8d20649f7b4dc20fb848220cc": {
      "model_module": "ipycanvas",
      "model_module_version": "^0.4.3",
      "model_name": "CanvasModel",
      "state": {
       "_model_module_version": "^0.4.3",
       "_view_module_version": "^0.4.3",
       "height": 1800,
       "layout": "IPY_MODEL_f0a9bbfda1bb412db01d18d404e2fdc3",
       "width": 980
      }
     },
     "587e1836cd284b93bfb7d8bf19239024": {
      "model_module": "ipycanvas",
      "model_module_version": "^0.4.3",
      "model_name": "CanvasModel",
      "state": {
       "_model_module_version": "^0.4.3",
       "_view_module_version": "^0.4.3",
       "height": 600,
       "layout": "IPY_MODEL_1bb52943da1c4eedbe8af53388940ebb",
       "width": 600
      }
     },
     "58ebf8d51efb46d3a8d2724f32b6a1ac": {
      "model_module": "@jupyter-widgets/base",
      "model_module_version": "1.2.0",
      "model_name": "LayoutModel",
      "state": {}
     },
     "5b0c7cdc8385462999f7b189dafa1b72": {
      "model_module": "ipycanvas",
      "model_module_version": "^0.4.3",
      "model_name": "CanvasModel",
      "state": {
       "_model_module_version": "^0.4.3",
       "_view_module_version": "^0.4.3",
       "height": 1800,
       "layout": "IPY_MODEL_7882ebdb54c64bc69cfe9a9111565b19",
       "width": 980
      }
     },
     "5d318acda85344daba42c3a74b81dadc": {
      "model_module": "@jupyter-widgets/base",
      "model_module_version": "1.2.0",
      "model_name": "LayoutModel",
      "state": {}
     },
     "5e0ac0dea5bd409090672e78e9de4ab1": {
      "model_module": "ipycanvas",
      "model_module_version": "^0.4.3",
      "model_name": "CanvasModel",
      "state": {
       "_model_module_version": "^0.4.3",
       "_view_module_version": "^0.4.3",
       "layout": "IPY_MODEL_381b497e506845589075f405b96df705",
       "width": 400
      }
     },
     "5e266d8b407a44ee8de722702ac0ca2c": {
      "model_module": "@jupyter-widgets/base",
      "model_module_version": "1.2.0",
      "model_name": "LayoutModel",
      "state": {}
     },
     "5fbc41c6d81541aabf84ac0a23b50129": {
      "model_module": "@jupyter-widgets/base",
      "model_module_version": "1.2.0",
      "model_name": "LayoutModel",
      "state": {}
     },
     "60809557fc044922bdd4d6852ca56995": {
      "model_module": "@jupyter-widgets/base",
      "model_module_version": "1.2.0",
      "model_name": "LayoutModel",
      "state": {}
     },
     "6087387c8d7f44dd9eae30f505bc3448": {
      "model_module": "ipycanvas",
      "model_module_version": "^0.4.3",
      "model_name": "CanvasModel",
      "state": {
       "_model_module_version": "^0.4.3",
       "_view_module_version": "^0.4.3",
       "height": 1600,
       "layout": "IPY_MODEL_f27b76aab730444e85e0dc1787b599c3",
       "width": 800
      }
     },
     "60d4ff050e304697932e9dc9b3644611": {
      "model_module": "ipycanvas",
      "model_module_version": "^0.4.3",
      "model_name": "CanvasModel",
      "state": {
       "_model_module_version": "^0.4.3",
       "_view_module_version": "^0.4.3",
       "height": 600,
       "layout": "IPY_MODEL_3679d0825ed74fa89a16ca0eefde8e80",
       "width": 600
      }
     },
     "6134e94896134f06a51fb637072b09ed": {
      "model_module": "@jupyter-widgets/base",
      "model_module_version": "1.2.0",
      "model_name": "LayoutModel",
      "state": {}
     },
     "61dbe585e1984955ac36251d52d255bb": {
      "model_module": "@jupyter-widgets/base",
      "model_module_version": "1.2.0",
      "model_name": "LayoutModel",
      "state": {}
     },
     "62802d2a8aba4702ad83476b5e57df02": {
      "model_module": "@jupyter-widgets/base",
      "model_module_version": "1.2.0",
      "model_name": "LayoutModel",
      "state": {}
     },
     "6341322db16b4beaaf896d72de375908": {
      "model_module": "ipycanvas",
      "model_module_version": "^0.4.3",
      "model_name": "CanvasModel",
      "state": {
       "_model_module_version": "^0.4.3",
       "_view_module_version": "^0.4.3",
       "height": 600,
       "layout": "IPY_MODEL_1b6e3edae8764a7786b3096128e250f7",
       "width": 600
      }
     },
     "63bced864687428a9db9a339aed5413b": {
      "model_module": "@jupyter-widgets/base",
      "model_module_version": "1.2.0",
      "model_name": "LayoutModel",
      "state": {}
     },
     "64b9b789fa6b4ebeb90474fb46e7463b": {
      "model_module": "ipycanvas",
      "model_module_version": "^0.4.3",
      "model_name": "CanvasModel",
      "state": {
       "_model_module_version": "^0.4.3",
       "_view_module_version": "^0.4.3",
       "height": 600,
       "layout": "IPY_MODEL_d322f355a4c2417f8bd2187f5620847a",
       "width": 600
      }
     },
     "660895dcd843471eb8a08e185f9f1dbc": {
      "model_module": "@jupyter-widgets/base",
      "model_module_version": "1.2.0",
      "model_name": "LayoutModel",
      "state": {}
     },
     "66c1f85c0b0d4894a6adf0e8d37acdd5": {
      "model_module": "ipycanvas",
      "model_module_version": "^0.4.3",
      "model_name": "CanvasModel",
      "state": {
       "_model_module_version": "^0.4.3",
       "_view_module_version": "^0.4.3",
       "height": 600,
       "layout": "IPY_MODEL_63bced864687428a9db9a339aed5413b",
       "width": 600
      }
     },
     "67727349ad9242cab988ce00280583bd": {
      "model_module": "@jupyter-widgets/base",
      "model_module_version": "1.2.0",
      "model_name": "LayoutModel",
      "state": {}
     },
     "67c658de0ad847109782604226348bf4": {
      "model_module": "ipycanvas",
      "model_module_version": "^0.4.3",
      "model_name": "CanvasModel",
      "state": {
       "_model_module_version": "^0.4.3",
       "_view_module_version": "^0.4.3",
       "height": 1800,
       "layout": "IPY_MODEL_d6dbc8f2c41a4ab6b8d56b353a08139c",
       "width": 980
      }
     },
     "69e2d8a3a5bc45bdbc51881c3e7bd27e": {
      "model_module": "@jupyter-widgets/base",
      "model_module_version": "1.2.0",
      "model_name": "LayoutModel",
      "state": {}
     },
     "6a5e465c785b47fb907d19610ed7531e": {
      "model_module": "@jupyter-widgets/base",
      "model_module_version": "1.2.0",
      "model_name": "LayoutModel",
      "state": {}
     },
     "6a8f107978844c53bf5a7eb9ebe4f330": {
      "model_module": "@jupyter-widgets/base",
      "model_module_version": "1.2.0",
      "model_name": "LayoutModel",
      "state": {}
     },
     "6abfb04126154067a9eff85f521ac2f6": {
      "model_module": "ipycanvas",
      "model_module_version": "^0.4.3",
      "model_name": "CanvasModel",
      "state": {
       "_model_module_version": "^0.4.3",
       "_view_module_version": "^0.4.3",
       "height": 1600,
       "layout": "IPY_MODEL_a9d4dec0095143cca6e7e00118a29d51",
       "width": 800
      }
     },
     "6b2b4fb50523499189634bcd66748d61": {
      "model_module": "ipycanvas",
      "model_module_version": "^0.4.3",
      "model_name": "CanvasModel",
      "state": {
       "_model_module_version": "^0.4.3",
       "_view_module_version": "^0.4.3",
       "height": 1800,
       "layout": "IPY_MODEL_291ec3f883b741e78dfe05355e95dc02",
       "width": 980
      }
     },
     "6b342cb9889a4059b3dae8787f135922": {
      "model_module": "ipycanvas",
      "model_module_version": "^0.4.3",
      "model_name": "CanvasModel",
      "state": {
       "_model_module_version": "^0.4.3",
       "_view_module_version": "^0.4.3",
       "height": 600,
       "layout": "IPY_MODEL_20fd99e108954c0b8dca5ceea50fe181",
       "width": 600
      }
     },
     "6c1f100c7b2a461997b97bddf2033f36": {
      "model_module": "ipycanvas",
      "model_module_version": "^0.4.3",
      "model_name": "CanvasModel",
      "state": {
       "_model_module_version": "^0.4.3",
       "_view_module_version": "^0.4.3",
       "height": 600,
       "layout": "IPY_MODEL_fbf60dc8670447098dde416e0ca2485d",
       "width": 600
      }
     },
     "6cc9d8a11f984e01b898ae0b8f90a4c6": {
      "model_module": "@jupyter-widgets/base",
      "model_module_version": "1.2.0",
      "model_name": "LayoutModel",
      "state": {}
     },
     "6d008c4bc66142218ecf88bef1a9813d": {
      "model_module": "ipycanvas",
      "model_module_version": "^0.4.3",
      "model_name": "CanvasModel",
      "state": {
       "_model_module_version": "^0.4.3",
       "_view_module_version": "^0.4.3",
       "layout": "IPY_MODEL_6f61e96480b94d568d151d7693848b4c",
       "width": 400
      }
     },
     "6d2f223cd06248d1ae7cf94e39aceff7": {
      "model_module": "ipycanvas",
      "model_module_version": "^0.4.3",
      "model_name": "CanvasModel",
      "state": {
       "_model_module_version": "^0.4.3",
       "_view_module_version": "^0.4.3",
       "height": 800,
       "layout": "IPY_MODEL_c02fdf03097747afa54883b57ec57ae2",
       "width": 800
      }
     },
     "6ee6ea8b7cae4a35b7d73a4634f0537a": {
      "model_module": "ipycanvas",
      "model_module_version": "^0.4.3",
      "model_name": "CanvasModel",
      "state": {
       "_model_module_version": "^0.4.3",
       "_view_module_version": "^0.4.3",
       "height": 1800,
       "layout": "IPY_MODEL_e5d96f147f5142a0831f7d98173edcd7",
       "width": 980
      }
     },
     "6efcbfba3be54bc992448cc8866ba6c3": {
      "model_module": "@jupyter-widgets/base",
      "model_module_version": "1.2.0",
      "model_name": "LayoutModel",
      "state": {}
     },
     "6f61e96480b94d568d151d7693848b4c": {
      "model_module": "@jupyter-widgets/base",
      "model_module_version": "1.2.0",
      "model_name": "LayoutModel",
      "state": {}
     },
     "7087dfdd48594635a677429b9e7f20f8": {
      "model_module": "ipycanvas",
      "model_module_version": "^0.4.3",
      "model_name": "CanvasModel",
      "state": {
       "_model_module_version": "^0.4.3",
       "_view_module_version": "^0.4.3",
       "height": 800,
       "layout": "IPY_MODEL_0a0346b44bb74a15b9afe262f91c3958",
       "width": 800
      }
     },
     "731d8cb25778460f904d73ed2f704ac0": {
      "model_module": "@jupyter-widgets/base",
      "model_module_version": "1.2.0",
      "model_name": "LayoutModel",
      "state": {}
     },
     "73765d0e101f4ff0873c7056104b4018": {
      "model_module": "@jupyter-widgets/base",
      "model_module_version": "1.2.0",
      "model_name": "LayoutModel",
      "state": {}
     },
     "73793b75243f49b3870b73264e0c5b90": {
      "model_module": "ipycanvas",
      "model_module_version": "^0.4.3",
      "model_name": "CanvasModel",
      "state": {
       "_model_module_version": "^0.4.3",
       "_view_module_version": "^0.4.3",
       "height": 600,
       "layout": "IPY_MODEL_449d8ecbfa00410292a73e160c1bd68c",
       "width": 600
      }
     },
     "73c8d66214204c43be6def79baa6ca7d": {
      "model_module": "@jupyter-widgets/base",
      "model_module_version": "1.2.0",
      "model_name": "LayoutModel",
      "state": {}
     },
     "7509391ee358491d9fe63c640ae5aa94": {
      "model_module": "@jupyter-widgets/base",
      "model_module_version": "1.2.0",
      "model_name": "LayoutModel",
      "state": {}
     },
     "761130689697443ebe691b85ee9d6892": {
      "model_module": "ipycanvas",
      "model_module_version": "^0.4.3",
      "model_name": "CanvasModel",
      "state": {
       "_model_module_version": "^0.4.3",
       "_view_module_version": "^0.4.3",
       "height": 1800,
       "layout": "IPY_MODEL_b5df0ffe4f7844da95f47c54fc829cf7",
       "width": 980
      }
     },
     "7783745912504f258b98905f9d748468": {
      "model_module": "ipycanvas",
      "model_module_version": "^0.4.3",
      "model_name": "CanvasModel",
      "state": {
       "_model_module_version": "^0.4.3",
       "_view_module_version": "^0.4.3",
       "height": 600,
       "layout": "IPY_MODEL_c0e4a8ac90af4c26b28298123483334b",
       "width": 600
      }
     },
     "77925ac36d1a4247a80766d02907b649": {
      "model_module": "ipycanvas",
      "model_module_version": "^0.4.3",
      "model_name": "CanvasModel",
      "state": {
       "_model_module_version": "^0.4.3",
       "_view_module_version": "^0.4.3",
       "height": 1800,
       "layout": "IPY_MODEL_0fb428d180bb46d1b86734872a48005d",
       "width": 980
      }
     },
     "7882ebdb54c64bc69cfe9a9111565b19": {
      "model_module": "@jupyter-widgets/base",
      "model_module_version": "1.2.0",
      "model_name": "LayoutModel",
      "state": {}
     },
     "790f4b40141040ce8d211793e2a160b6": {
      "model_module": "@jupyter-widgets/base",
      "model_module_version": "1.2.0",
      "model_name": "LayoutModel",
      "state": {}
     },
     "7cb9d937fba546a3bfd134d03adcb14b": {
      "model_module": "@jupyter-widgets/base",
      "model_module_version": "1.2.0",
      "model_name": "LayoutModel",
      "state": {}
     },
     "7d76861e540a4909883a05a1f4b602a2": {
      "model_module": "@jupyter-widgets/base",
      "model_module_version": "1.2.0",
      "model_name": "LayoutModel",
      "state": {}
     },
     "7f14b702fa424bf8bcb0019a7bab1cd0": {
      "model_module": "@jupyter-widgets/base",
      "model_module_version": "1.2.0",
      "model_name": "LayoutModel",
      "state": {}
     },
     "7f58e3e9623d4024b632730c0997e0c7": {
      "model_module": "ipycanvas",
      "model_module_version": "^0.4.3",
      "model_name": "CanvasModel",
      "state": {
       "_model_module_version": "^0.4.3",
       "_view_module_version": "^0.4.3",
       "height": 600,
       "layout": "IPY_MODEL_487a55d354924584a487bcb24756bd19",
       "width": 600
      }
     },
     "7ffbede013654053a24ee9378285ffcd": {
      "model_module": "@jupyter-widgets/base",
      "model_module_version": "1.2.0",
      "model_name": "LayoutModel",
      "state": {}
     },
     "8339e257b5974e9da0f4d49ccefde32a": {
      "model_module": "ipycanvas",
      "model_module_version": "^0.4.3",
      "model_name": "CanvasModel",
      "state": {
       "_model_module_version": "^0.4.3",
       "_view_module_version": "^0.4.3",
       "height": 600,
       "layout": "IPY_MODEL_6efcbfba3be54bc992448cc8866ba6c3",
       "width": 600
      }
     },
     "834330da0f344ba680f1aba466614475": {
      "model_module": "@jupyter-widgets/base",
      "model_module_version": "1.2.0",
      "model_name": "LayoutModel",
      "state": {}
     },
     "84157c9f438f468da1eaf56cefd2792a": {
      "model_module": "ipycanvas",
      "model_module_version": "^0.4.3",
      "model_name": "CanvasModel",
      "state": {
       "_model_module_version": "^0.4.3",
       "_view_module_version": "^0.4.3",
       "height": 800,
       "layout": "IPY_MODEL_7509391ee358491d9fe63c640ae5aa94",
       "width": 800
      }
     },
     "844455d4a5ee4f30801e315ecc5fcbdd": {
      "model_module": "@jupyter-widgets/base",
      "model_module_version": "1.2.0",
      "model_name": "LayoutModel",
      "state": {}
     },
     "8485b9bbc4224c238e998900fa184d01": {
      "model_module": "@jupyter-widgets/base",
      "model_module_version": "1.2.0",
      "model_name": "LayoutModel",
      "state": {}
     },
     "856cc00f961648a9b25a6ef512511762": {
      "model_module": "@jupyter-widgets/base",
      "model_module_version": "1.2.0",
      "model_name": "LayoutModel",
      "state": {}
     },
     "85ce5dfc5ce845059b030994f0df0771": {
      "model_module": "@jupyter-widgets/base",
      "model_module_version": "1.2.0",
      "model_name": "LayoutModel",
      "state": {}
     },
     "865d7dba08164d3c8cdb91e197c9392a": {
      "model_module": "@jupyter-widgets/base",
      "model_module_version": "1.2.0",
      "model_name": "LayoutModel",
      "state": {}
     },
     "887b1229f90e4784b98c04116f351cce": {
      "model_module": "@jupyter-widgets/base",
      "model_module_version": "1.2.0",
      "model_name": "LayoutModel",
      "state": {}
     },
     "8a63409d13c7423ca9ccfb726fc555ba": {
      "model_module": "ipycanvas",
      "model_module_version": "^0.4.3",
      "model_name": "CanvasModel",
      "state": {
       "_model_module_version": "^0.4.3",
       "_view_module_version": "^0.4.3",
       "layout": "IPY_MODEL_d7c7fec37c4d42089dfad043b15b155f",
       "width": 400
      }
     },
     "8b8982798f7c4a9485c06778b4ec5904": {
      "model_module": "ipycanvas",
      "model_module_version": "^0.4.3",
      "model_name": "CanvasModel",
      "state": {
       "_model_module_version": "^0.4.3",
       "_view_module_version": "^0.4.3",
       "height": 1600,
       "layout": "IPY_MODEL_5fbc41c6d81541aabf84ac0a23b50129",
       "width": 800
      }
     },
     "8d5344a2766a41a593ea00013f1f8eed": {
      "model_module": "@jupyter-widgets/base",
      "model_module_version": "1.2.0",
      "model_name": "LayoutModel",
      "state": {}
     },
     "8de9e51a8dc84415a2f182f81be73790": {
      "model_module": "ipycanvas",
      "model_module_version": "^0.4.3",
      "model_name": "CanvasModel",
      "state": {
       "_model_module_version": "^0.4.3",
       "_view_module_version": "^0.4.3",
       "height": 1800,
       "layout": "IPY_MODEL_6134e94896134f06a51fb637072b09ed",
       "width": 980
      }
     },
     "8df500e3b3a1404d87e0b11ab69f818f": {
      "model_module": "@jupyter-widgets/base",
      "model_module_version": "1.2.0",
      "model_name": "LayoutModel",
      "state": {}
     },
     "909eab160f7c4d6dbc99ce5f09ff69f6": {
      "model_module": "ipycanvas",
      "model_module_version": "^0.4.3",
      "model_name": "CanvasModel",
      "state": {
       "_model_module_version": "^0.4.3",
       "_view_module_version": "^0.4.3",
       "height": 800,
       "layout": "IPY_MODEL_932219d42bfb4aaabdc9c26159c47997",
       "width": 800
      }
     },
     "9226a5082a674c39a77e36df28249474": {
      "model_module": "@jupyter-widgets/base",
      "model_module_version": "1.2.0",
      "model_name": "LayoutModel",
      "state": {}
     },
     "932219d42bfb4aaabdc9c26159c47997": {
      "model_module": "@jupyter-widgets/base",
      "model_module_version": "1.2.0",
      "model_name": "LayoutModel",
      "state": {}
     },
     "93b936b245b44f268f3588e03a3ce05b": {
      "model_module": "@jupyter-widgets/base",
      "model_module_version": "1.2.0",
      "model_name": "LayoutModel",
      "state": {}
     },
     "942f57dd0156443bbe3a403f07c112de": {
      "model_module": "@jupyter-widgets/base",
      "model_module_version": "1.2.0",
      "model_name": "LayoutModel",
      "state": {}
     },
     "948f9227091449ef979f6f7a4e1fb3c2": {
      "model_module": "@jupyter-widgets/base",
      "model_module_version": "1.2.0",
      "model_name": "LayoutModel",
      "state": {}
     },
     "94b5c68f8e01458ba961a8e99a6a9b88": {
      "model_module": "ipycanvas",
      "model_module_version": "^0.4.3",
      "model_name": "CanvasModel",
      "state": {
       "_model_module_version": "^0.4.3",
       "_view_module_version": "^0.4.3",
       "height": 600,
       "layout": "IPY_MODEL_790f4b40141040ce8d211793e2a160b6",
       "width": 600
      }
     },
     "961e50c580674aa1b0c3602f439240e3": {
      "model_module": "ipycanvas",
      "model_module_version": "^0.4.3",
      "model_name": "CanvasModel",
      "state": {
       "_model_module_version": "^0.4.3",
       "_view_module_version": "^0.4.3",
       "height": 600,
       "layout": "IPY_MODEL_28f7410308b7458db157f2663942f067",
       "width": 600
      }
     },
     "967d87a1d79541e2a104a0f90cfd9eed": {
      "model_module": "@jupyter-widgets/base",
      "model_module_version": "1.2.0",
      "model_name": "LayoutModel",
      "state": {}
     },
     "96d393696711424bb6c5a28f163f8312": {
      "model_module": "ipycanvas",
      "model_module_version": "^0.4.3",
      "model_name": "CanvasModel",
      "state": {
       "_model_module_version": "^0.4.3",
       "_view_module_version": "^0.4.3",
       "layout": "IPY_MODEL_e24f7eeafaed42d19b42f3a4015f9443",
       "width": 400
      }
     },
     "96f79a1defa042ec9c2cce5403e826a3": {
      "model_module": "@jupyter-widgets/base",
      "model_module_version": "1.2.0",
      "model_name": "LayoutModel",
      "state": {}
     },
     "9769a8e2f8ae48f5a2ee61b0dd5d4558": {
      "model_module": "ipycanvas",
      "model_module_version": "^0.4.3",
      "model_name": "CanvasModel",
      "state": {
       "_model_module_version": "^0.4.3",
       "_view_module_version": "^0.4.3",
       "height": 1600,
       "layout": "IPY_MODEL_8485b9bbc4224c238e998900fa184d01",
       "width": 800
      }
     },
     "97d2b635b326411ca41aca4a7fdcedfd": {
      "model_module": "ipycanvas",
      "model_module_version": "^0.4.3",
      "model_name": "CanvasModel",
      "state": {
       "_model_module_version": "^0.4.3",
       "_view_module_version": "^0.4.3",
       "height": 600,
       "layout": "IPY_MODEL_283fa49b932045c48a85547708d098d7",
       "width": 600
      }
     },
     "97f93ffee8ba477697ebf8acc51e8645": {
      "model_module": "ipycanvas",
      "model_module_version": "^0.4.3",
      "model_name": "CanvasModel",
      "state": {
       "_model_module_version": "^0.4.3",
       "_view_module_version": "^0.4.3",
       "height": 1600,
       "layout": "IPY_MODEL_967d87a1d79541e2a104a0f90cfd9eed",
       "width": 800
      }
     },
     "9807779b6b47475aba82c94557887c75": {
      "model_module": "ipycanvas",
      "model_module_version": "^0.4.3",
      "model_name": "CanvasModel",
      "state": {
       "_model_module_version": "^0.4.3",
       "_view_module_version": "^0.4.3",
       "height": 1800,
       "layout": "IPY_MODEL_6a5e465c785b47fb907d19610ed7531e",
       "width": 980
      }
     },
     "98bed5774b7a4960a56f173578258e6d": {
      "model_module": "@jupyter-widgets/base",
      "model_module_version": "1.2.0",
      "model_name": "LayoutModel",
      "state": {}
     },
     "9a4313e3c5154e3d94203c6c47878eee": {
      "model_module": "ipycanvas",
      "model_module_version": "^0.4.3",
      "model_name": "CanvasModel",
      "state": {
       "_model_module_version": "^0.4.3",
       "_view_module_version": "^0.4.3",
       "height": 900,
       "layout": "IPY_MODEL_bb5f3c73157a4757b785c89231219be0",
       "width": 900
      }
     },
     "9aa9375e29ae44c1bf1933254661f0ca": {
      "model_module": "ipycanvas",
      "model_module_version": "^0.4.3",
      "model_name": "CanvasModel",
      "state": {
       "_model_module_version": "^0.4.3",
       "_view_module_version": "^0.4.3",
       "layout": "IPY_MODEL_5e266d8b407a44ee8de722702ac0ca2c",
       "width": 400
      }
     },
     "9b6ed4536db44427a13efa5e85b37726": {
      "model_module": "ipycanvas",
      "model_module_version": "^0.4.3",
      "model_name": "CanvasModel",
      "state": {
       "_model_module_version": "^0.4.3",
       "_view_module_version": "^0.4.3",
       "height": 1600,
       "layout": "IPY_MODEL_40d1a51c3fd2422690b611b18f5c6eec",
       "width": 800
      }
     },
     "9c32f9bc1b3e4058a1e58b8d03805008": {
      "model_module": "@jupyter-widgets/base",
      "model_module_version": "1.2.0",
      "model_name": "LayoutModel",
      "state": {}
     },
     "9d2af5c9d92b451c83b45179b7de0fcc": {
      "model_module": "ipycanvas",
      "model_module_version": "^0.4.3",
      "model_name": "CanvasModel",
      "state": {
       "_model_module_version": "^0.4.3",
       "_view_module_version": "^0.4.3",
       "height": 1800,
       "layout": "IPY_MODEL_d01a6659e6a54fc99351a3d2ffcb33a4",
       "width": 980
      }
     },
     "9f8df5bc1f9f4747944e6781d9478f01": {
      "model_module": "ipycanvas",
      "model_module_version": "^0.4.3",
      "model_name": "CanvasModel",
      "state": {
       "_model_module_version": "^0.4.3",
       "_view_module_version": "^0.4.3",
       "height": 600,
       "layout": "IPY_MODEL_f2c15cfbb144467a815b9dd730506a94",
       "width": 600
      }
     },
     "a1c6223ab4714b2cbaf00183bdad83f1": {
      "model_module": "@jupyter-widgets/base",
      "model_module_version": "1.2.0",
      "model_name": "LayoutModel",
      "state": {}
     },
     "a20bb6fd85524f709967e3f408f97395": {
      "model_module": "ipycanvas",
      "model_module_version": "^0.4.3",
      "model_name": "CanvasModel",
      "state": {
       "_model_module_version": "^0.4.3",
       "_view_module_version": "^0.4.3",
       "height": 1600,
       "layout": "IPY_MODEL_20a0b415e2704f7a98cd6ec0c9363da1",
       "width": 800
      }
     },
     "a30f334ea56742629e21baa1bfd292da": {
      "model_module": "@jupyter-widgets/base",
      "model_module_version": "1.2.0",
      "model_name": "LayoutModel",
      "state": {}
     },
     "a331693001274a5fa13a36587c671846": {
      "model_module": "ipycanvas",
      "model_module_version": "^0.4.3",
      "model_name": "CanvasModel",
      "state": {
       "_model_module_version": "^0.4.3",
       "_view_module_version": "^0.4.3",
       "height": 600,
       "layout": "IPY_MODEL_40b5a68a74a9463595a769bbb5e44e40",
       "width": 600
      }
     },
     "a58bdd37ed29463dab533465db5934f6": {
      "model_module": "@jupyter-widgets/base",
      "model_module_version": "1.2.0",
      "model_name": "LayoutModel",
      "state": {}
     },
     "a5dfbcf224e243399abf81d4c38ad44d": {
      "model_module": "@jupyter-widgets/base",
      "model_module_version": "1.2.0",
      "model_name": "LayoutModel",
      "state": {}
     },
     "a65012242b5a4bc4ae565ef1e420fb5a": {
      "model_module": "ipycanvas",
      "model_module_version": "^0.4.3",
      "model_name": "CanvasModel",
      "state": {
       "_model_module_version": "^0.4.3",
       "_view_module_version": "^0.4.3",
       "height": 600,
       "layout": "IPY_MODEL_2bb31500baf243019699200dc1b42c78",
       "width": 600
      }
     },
     "a97fd70368574998903e219c72697298": {
      "model_module": "@jupyter-widgets/base",
      "model_module_version": "1.2.0",
      "model_name": "LayoutModel",
      "state": {}
     },
     "a9d4dec0095143cca6e7e00118a29d51": {
      "model_module": "@jupyter-widgets/base",
      "model_module_version": "1.2.0",
      "model_name": "LayoutModel",
      "state": {}
     },
     "ab708db7427a449c9218ad189cb119dc": {
      "model_module": "ipycanvas",
      "model_module_version": "^0.4.3",
      "model_name": "CanvasModel",
      "state": {
       "_model_module_version": "^0.4.3",
       "_view_module_version": "^0.4.3",
       "height": 1800,
       "layout": "IPY_MODEL_f9cd34eb8f344f9dbeaa9b290507f7de",
       "width": 980
      }
     },
     "ab7735bbac5144c68a840ffe6a75ec00": {
      "model_module": "ipycanvas",
      "model_module_version": "^0.4.3",
      "model_name": "CanvasModel",
      "state": {
       "_model_module_version": "^0.4.3",
       "_view_module_version": "^0.4.3",
       "height": 600,
       "layout": "IPY_MODEL_73765d0e101f4ff0873c7056104b4018",
       "width": 600
      }
     },
     "ad1700d4aebd4b05a517bffe9da2142b": {
      "model_module": "ipycanvas",
      "model_module_version": "^0.4.3",
      "model_name": "CanvasModel",
      "state": {
       "_model_module_version": "^0.4.3",
       "_view_module_version": "^0.4.3",
       "layout": "IPY_MODEL_fefff51e7ec148a59fa21bedccd8646d",
       "width": 400
      }
     },
     "aefdaef8375c42fdb44f6dbf22c2240a": {
      "model_module": "@jupyter-widgets/base",
      "model_module_version": "1.2.0",
      "model_name": "LayoutModel",
      "state": {}
     },
     "af319434834c4e5badb1ca3ee93c9e19": {
      "model_module": "@jupyter-widgets/base",
      "model_module_version": "1.2.0",
      "model_name": "LayoutModel",
      "state": {}
     },
     "b0fc7956e15e441e9865eab5cfaa1b98": {
      "model_module": "@jupyter-widgets/base",
      "model_module_version": "1.2.0",
      "model_name": "LayoutModel",
      "state": {}
     },
     "b268b555f4b04d8bae1d6aea19b81558": {
      "model_module": "@jupyter-widgets/base",
      "model_module_version": "1.2.0",
      "model_name": "LayoutModel",
      "state": {}
     },
     "b5731cc7ad9045f7a8625f3378d83b71": {
      "model_module": "ipycanvas",
      "model_module_version": "^0.4.3",
      "model_name": "CanvasModel",
      "state": {
       "_model_module_version": "^0.4.3",
       "_view_module_version": "^0.4.3",
       "height": 800,
       "layout": "IPY_MODEL_5d318acda85344daba42c3a74b81dadc",
       "width": 800
      }
     },
     "b5df0ffe4f7844da95f47c54fc829cf7": {
      "model_module": "@jupyter-widgets/base",
      "model_module_version": "1.2.0",
      "model_name": "LayoutModel",
      "state": {}
     },
     "b642f3724c3a4fe8a8e443e9b4e5a638": {
      "model_module": "@jupyter-widgets/base",
      "model_module_version": "1.2.0",
      "model_name": "LayoutModel",
      "state": {}
     },
     "b74c0c6177644812895b3143be3cb53b": {
      "model_module": "ipycanvas",
      "model_module_version": "^0.4.3",
      "model_name": "CanvasModel",
      "state": {
       "_model_module_version": "^0.4.3",
       "_view_module_version": "^0.4.3",
       "height": 1600,
       "layout": "IPY_MODEL_60809557fc044922bdd4d6852ca56995",
       "width": 800
      }
     },
     "b78bad6506b84a9080c9481a4d8ed06c": {
      "model_module": "ipycanvas",
      "model_module_version": "^0.4.3",
      "model_name": "CanvasModel",
      "state": {
       "_model_module_version": "^0.4.3",
       "_view_module_version": "^0.4.3",
       "height": 800,
       "layout": "IPY_MODEL_731d8cb25778460f904d73ed2f704ac0",
       "width": 800
      }
     },
     "b7bb47b0370847c7b54232634f1559b3": {
      "model_module": "ipycanvas",
      "model_module_version": "^0.4.3",
      "model_name": "CanvasModel",
      "state": {
       "_model_module_version": "^0.4.3",
       "_view_module_version": "^0.4.3",
       "height": 600,
       "layout": "IPY_MODEL_865d7dba08164d3c8cdb91e197c9392a",
       "width": 600
      }
     },
     "b840550d0e6a46a3bfacff802c3fda0e": {
      "model_module": "ipycanvas",
      "model_module_version": "^0.4.3",
      "model_name": "CanvasModel",
      "state": {
       "_model_module_version": "^0.4.3",
       "_view_module_version": "^0.4.3",
       "height": 600,
       "layout": "IPY_MODEL_26c788b318e142ff81023b9e73f9208f",
       "width": 600
      }
     },
     "ba864b543b244cd6b632eb27363bae43": {
      "model_module": "ipycanvas",
      "model_module_version": "^0.4.3",
      "model_name": "CanvasModel",
      "state": {
       "_model_module_version": "^0.4.3",
       "_view_module_version": "^0.4.3",
       "height": 1600,
       "layout": "IPY_MODEL_6a8f107978844c53bf5a7eb9ebe4f330",
       "width": 800
      }
     },
     "bb5f3c73157a4757b785c89231219be0": {
      "model_module": "@jupyter-widgets/base",
      "model_module_version": "1.2.0",
      "model_name": "LayoutModel",
      "state": {}
     },
     "bc309ea43d8a473ab0264b756f8af010": {
      "model_module": "@jupyter-widgets/base",
      "model_module_version": "1.2.0",
      "model_name": "LayoutModel",
      "state": {}
     },
     "bd77be4c3ceb4a7e991d7f8f450085a9": {
      "model_module": "ipycanvas",
      "model_module_version": "^0.4.3",
      "model_name": "CanvasModel",
      "state": {
       "_model_module_version": "^0.4.3",
       "_view_module_version": "^0.4.3",
       "height": 1600,
       "layout": "IPY_MODEL_02b248c120d5479f8382dac60e015ee3",
       "width": 800
      }
     },
     "bdfdf10f2f7b488ca435dce39421dd97": {
      "model_module": "ipycanvas",
      "model_module_version": "^0.4.3",
      "model_name": "CanvasModel",
      "state": {
       "_model_module_version": "^0.4.3",
       "_view_module_version": "^0.4.3",
       "height": 1600,
       "layout": "IPY_MODEL_068ccc2b787d4573bbe65516615faffd",
       "width": 800
      }
     },
     "c0054ad67b874deca98881cdcabc4a7a": {
      "model_module": "@jupyter-widgets/base",
      "model_module_version": "1.2.0",
      "model_name": "LayoutModel",
      "state": {}
     },
     "c02fdf03097747afa54883b57ec57ae2": {
      "model_module": "@jupyter-widgets/base",
      "model_module_version": "1.2.0",
      "model_name": "LayoutModel",
      "state": {}
     },
     "c0c94ddb6c1a4d71b8c1790f3a9a8421": {
      "model_module": "ipycanvas",
      "model_module_version": "^0.4.3",
      "model_name": "CanvasModel",
      "state": {
       "_model_module_version": "^0.4.3",
       "_view_module_version": "^0.4.3",
       "height": 1600,
       "layout": "IPY_MODEL_62802d2a8aba4702ad83476b5e57df02",
       "width": 800
      }
     },
     "c0e4a8ac90af4c26b28298123483334b": {
      "model_module": "@jupyter-widgets/base",
      "model_module_version": "1.2.0",
      "model_name": "LayoutModel",
      "state": {}
     },
     "c379add8fc8243c19892b1f2e0193100": {
      "model_module": "ipycanvas",
      "model_module_version": "^0.4.3",
      "model_name": "CanvasModel",
      "state": {
       "_model_module_version": "^0.4.3",
       "_view_module_version": "^0.4.3",
       "height": 1800,
       "layout": "IPY_MODEL_28b21b1a2b004943bae4f639cfd5703d",
       "width": 980
      }
     },
     "c58b50e86c0b4b5b906609d70b86860f": {
      "model_module": "ipycanvas",
      "model_module_version": "^0.4.3",
      "model_name": "CanvasModel",
      "state": {
       "_model_module_version": "^0.4.3",
       "_view_module_version": "^0.4.3",
       "height": 1800,
       "layout": "IPY_MODEL_4b8402f775724c348e56f12e5c7612cc",
       "width": 980
      }
     },
     "c642cf96a8194d149a1f31f025fff061": {
      "model_module": "ipycanvas",
      "model_module_version": "^0.4.3",
      "model_name": "CanvasModel",
      "state": {
       "_model_module_version": "^0.4.3",
       "_view_module_version": "^0.4.3",
       "layout": "IPY_MODEL_85ce5dfc5ce845059b030994f0df0771",
       "width": 400
      }
     },
     "c79d5d3b387c4765bbd1fdbce924da98": {
      "model_module": "ipycanvas",
      "model_module_version": "^0.4.3",
      "model_name": "CanvasModel",
      "state": {
       "_model_module_version": "^0.4.3",
       "_view_module_version": "^0.4.3",
       "height": 600,
       "layout": "IPY_MODEL_1a1dd191a3954b1e821e88b1924cbce8",
       "width": 600
      }
     },
     "c832cb13782a47f6949ca030d24a250c": {
      "model_module": "ipycanvas",
      "model_module_version": "^0.4.3",
      "model_name": "CanvasModel",
      "state": {
       "_model_module_version": "^0.4.3",
       "_view_module_version": "^0.4.3",
       "height": 600,
       "layout": "IPY_MODEL_6cc9d8a11f984e01b898ae0b8f90a4c6",
       "width": 600
      }
     },
     "c850735d6e0541dc99fa7c290eb2d957": {
      "model_module": "ipycanvas",
      "model_module_version": "^0.4.3",
      "model_name": "CanvasModel",
      "state": {
       "_model_module_version": "^0.4.3",
       "_view_module_version": "^0.4.3",
       "height": 1600,
       "layout": "IPY_MODEL_7f14b702fa424bf8bcb0019a7bab1cd0",
       "width": 800
      }
     },
     "c8d1184b20c94a60aa09219d138f3482": {
      "model_module": "@jupyter-widgets/base",
      "model_module_version": "1.2.0",
      "model_name": "LayoutModel",
      "state": {}
     },
     "c96196576195427ebe71bc2f1b700461": {
      "model_module": "ipycanvas",
      "model_module_version": "^0.4.3",
      "model_name": "CanvasModel",
      "state": {
       "_model_module_version": "^0.4.3",
       "_view_module_version": "^0.4.3",
       "height": 600,
       "layout": "IPY_MODEL_f764f3be8b9d4c2d8c88d6c965b35eaa",
       "width": 600
      }
     },
     "cd2a101290e242b4aa171e5af0e98034": {
      "model_module": "@jupyter-widgets/base",
      "model_module_version": "1.2.0",
      "model_name": "LayoutModel",
      "state": {}
     },
     "ce1d1119e6334421b8870cb6c6e7271b": {
      "model_module": "ipycanvas",
      "model_module_version": "^0.4.3",
      "model_name": "CanvasModel",
      "state": {
       "_model_module_version": "^0.4.3",
       "_view_module_version": "^0.4.3",
       "height": 600,
       "layout": "IPY_MODEL_f769eb19b243471e99e63059f97907e8",
       "width": 600
      }
     },
     "ce8143d628a441ce87703d87e9d8f927": {
      "model_module": "ipycanvas",
      "model_module_version": "^0.4.3",
      "model_name": "CanvasModel",
      "state": {
       "_model_module_version": "^0.4.3",
       "_view_module_version": "^0.4.3",
       "height": 600,
       "layout": "IPY_MODEL_24eff5287f174dc0b1d1fda2d3ea97ef",
       "width": 600
      }
     },
     "cf3d88ad1fec45babde3860add9189dc": {
      "model_module": "ipycanvas",
      "model_module_version": "^0.4.3",
      "model_name": "CanvasModel",
      "state": {
       "_model_module_version": "^0.4.3",
       "_view_module_version": "^0.4.3",
       "height": 1800,
       "layout": "IPY_MODEL_0eabd95fe59d4865a7edfd2d1780f377",
       "width": 980
      }
     },
     "d0169a8345cf49d489ab4783289d6903": {
      "model_module": "ipycanvas",
      "model_module_version": "^0.4.3",
      "model_name": "CanvasModel",
      "state": {
       "_model_module_version": "^0.4.3",
       "_view_module_version": "^0.4.3",
       "height": 1600,
       "layout": "IPY_MODEL_e04dc5878df44118bf89e8c1640cddb3",
       "width": 800
      }
     },
     "d01a6659e6a54fc99351a3d2ffcb33a4": {
      "model_module": "@jupyter-widgets/base",
      "model_module_version": "1.2.0",
      "model_name": "LayoutModel",
      "state": {}
     },
     "d0217bdf8fc641e2a7ab00bab5914e22": {
      "model_module": "ipycanvas",
      "model_module_version": "^0.4.3",
      "model_name": "CanvasModel",
      "state": {
       "_model_module_version": "^0.4.3",
       "_view_module_version": "^0.4.3",
       "layout": "IPY_MODEL_0d29241707b64cd892b8bf0abaacdbf9",
       "width": 400
      }
     },
     "d0583b1a17da4abb8791bf5ebdd44217": {
      "model_module": "@jupyter-widgets/base",
      "model_module_version": "1.2.0",
      "model_name": "LayoutModel",
      "state": {}
     },
     "d0a08f62d2c6451da87e9eb5c0c2c489": {
      "model_module": "@jupyter-widgets/base",
      "model_module_version": "1.2.0",
      "model_name": "LayoutModel",
      "state": {}
     },
     "d322f355a4c2417f8bd2187f5620847a": {
      "model_module": "@jupyter-widgets/base",
      "model_module_version": "1.2.0",
      "model_name": "LayoutModel",
      "state": {}
     },
     "d3dbb524e7ec401b864ba849d3e8dcb1": {
      "model_module": "ipycanvas",
      "model_module_version": "^0.4.3",
      "model_name": "CanvasModel",
      "state": {
       "_model_module_version": "^0.4.3",
       "_view_module_version": "^0.4.3",
       "height": 1800,
       "layout": "IPY_MODEL_9226a5082a674c39a77e36df28249474",
       "width": 980
      }
     },
     "d408f6463cba471e99494a95319f5227": {
      "model_module": "ipycanvas",
      "model_module_version": "^0.4.3",
      "model_name": "CanvasModel",
      "state": {
       "_model_module_version": "^0.4.3",
       "_view_module_version": "^0.4.3",
       "height": 1800,
       "layout": "IPY_MODEL_18de7c3447194481baa9ec709eeb8a95",
       "width": 980
      }
     },
     "d54b1db0da3a46b382824bd27615fcbf": {
      "model_module": "@jupyter-widgets/base",
      "model_module_version": "1.2.0",
      "model_name": "LayoutModel",
      "state": {}
     },
     "d5900cd6dd3544d09764759e9c855fbe": {
      "model_module": "@jupyter-widgets/base",
      "model_module_version": "1.2.0",
      "model_name": "LayoutModel",
      "state": {}
     },
     "d59c2b2b548d40469f5135c632697ccd": {
      "model_module": "@jupyter-widgets/base",
      "model_module_version": "1.2.0",
      "model_name": "LayoutModel",
      "state": {}
     },
     "d6d1a8129c8d48a88b3fa65f4c0f2e2e": {
      "model_module": "ipycanvas",
      "model_module_version": "^0.4.3",
      "model_name": "CanvasModel",
      "state": {
       "_model_module_version": "^0.4.3",
       "_view_module_version": "^0.4.3",
       "height": 600,
       "layout": "IPY_MODEL_460db48ad4f947dc824ad45a04370caa",
       "width": 600
      }
     },
     "d6dbc8f2c41a4ab6b8d56b353a08139c": {
      "model_module": "@jupyter-widgets/base",
      "model_module_version": "1.2.0",
      "model_name": "LayoutModel",
      "state": {}
     },
     "d7372b3cc41547c6abaf1c8800daf865": {
      "model_module": "ipycanvas",
      "model_module_version": "^0.4.3",
      "model_name": "CanvasModel",
      "state": {
       "_model_module_version": "^0.4.3",
       "_view_module_version": "^0.4.3",
       "height": 600,
       "layout": "IPY_MODEL_98bed5774b7a4960a56f173578258e6d",
       "width": 600
      }
     },
     "d7c7fec37c4d42089dfad043b15b155f": {
      "model_module": "@jupyter-widgets/base",
      "model_module_version": "1.2.0",
      "model_name": "LayoutModel",
      "state": {}
     },
     "d8c1c1eeccbb4d81942539ec5ebc7197": {
      "model_module": "ipycanvas",
      "model_module_version": "^0.4.3",
      "model_name": "CanvasModel",
      "state": {
       "_model_module_version": "^0.4.3",
       "_view_module_version": "^0.4.3",
       "height": 1800,
       "layout": "IPY_MODEL_93b936b245b44f268f3588e03a3ce05b",
       "width": 980
      }
     },
     "d908e29e0fc14fdba8a2d9dbf64ac5ae": {
      "model_module": "ipycanvas",
      "model_module_version": "^0.4.3",
      "model_name": "CanvasModel",
      "state": {
       "_model_module_version": "^0.4.3",
       "_view_module_version": "^0.4.3",
       "height": 600,
       "layout": "IPY_MODEL_233e1d2f8f6b49fb9223db001cddaf11",
       "width": 600
      }
     },
     "d91531b6c1614f68b476d4d97413e5ef": {
      "model_module": "ipycanvas",
      "model_module_version": "^0.4.3",
      "model_name": "CanvasModel",
      "state": {
       "_model_module_version": "^0.4.3",
       "_view_module_version": "^0.4.3",
       "height": 600,
       "layout": "IPY_MODEL_1d59b6c8699a438a914c4df31500958e",
       "width": 600
      }
     },
     "dbed704ec0404819afd3955d6dd432a1": {
      "model_module": "ipycanvas",
      "model_module_version": "^0.4.3",
      "model_name": "CanvasModel",
      "state": {
       "_model_module_version": "^0.4.3",
       "_view_module_version": "^0.4.3",
       "height": 1800,
       "layout": "IPY_MODEL_8df500e3b3a1404d87e0b11ab69f818f",
       "width": 980
      }
     },
     "dbeedc7a3c624f47a0b693e4157526ee": {
      "model_module": "ipycanvas",
      "model_module_version": "^0.4.3",
      "model_name": "CanvasModel",
      "state": {
       "_model_module_version": "^0.4.3",
       "_view_module_version": "^0.4.3",
       "height": 600,
       "layout": "IPY_MODEL_d0583b1a17da4abb8791bf5ebdd44217",
       "width": 600
      }
     },
     "dfc5d194ef42434ea97113a977a1e483": {
      "model_module": "ipycanvas",
      "model_module_version": "^0.4.3",
      "model_name": "CanvasModel",
      "state": {
       "_model_module_version": "^0.4.3",
       "_view_module_version": "^0.4.3",
       "height": 600,
       "layout": "IPY_MODEL_e426042c6a83458f980cbf700c20c724",
       "width": 600
      }
     },
     "e04dc5878df44118bf89e8c1640cddb3": {
      "model_module": "@jupyter-widgets/base",
      "model_module_version": "1.2.0",
      "model_name": "LayoutModel",
      "state": {}
     },
     "e0f2dcf7295148d8aadd910262158478": {
      "model_module": "ipycanvas",
      "model_module_version": "^0.4.3",
      "model_name": "CanvasModel",
      "state": {
       "_model_module_version": "^0.4.3",
       "_view_module_version": "^0.4.3",
       "height": 1800,
       "layout": "IPY_MODEL_a1c6223ab4714b2cbaf00183bdad83f1",
       "width": 980
      }
     },
     "e108ebb34397489e8967bfc5683285a7": {
      "model_module": "@jupyter-widgets/base",
      "model_module_version": "1.2.0",
      "model_name": "LayoutModel",
      "state": {}
     },
     "e1e66af17d5f41999a8adb68fdaee361": {
      "model_module": "ipycanvas",
      "model_module_version": "^0.4.3",
      "model_name": "CanvasModel",
      "state": {
       "_model_module_version": "^0.4.3",
       "_view_module_version": "^0.4.3",
       "height": 1800,
       "layout": "IPY_MODEL_f9ed6792be494bdb8a9e497ea5cc246f",
       "width": 980
      }
     },
     "e24f7eeafaed42d19b42f3a4015f9443": {
      "model_module": "@jupyter-widgets/base",
      "model_module_version": "1.2.0",
      "model_name": "LayoutModel",
      "state": {}
     },
     "e342d91adc6f4ad79763377c9f2f63cb": {
      "model_module": "@jupyter-widgets/base",
      "model_module_version": "1.2.0",
      "model_name": "LayoutModel",
      "state": {}
     },
     "e426042c6a83458f980cbf700c20c724": {
      "model_module": "@jupyter-widgets/base",
      "model_module_version": "1.2.0",
      "model_name": "LayoutModel",
      "state": {}
     },
     "e4383f983ee547d68e4528c59675b5f0": {
      "model_module": "ipycanvas",
      "model_module_version": "^0.4.3",
      "model_name": "CanvasModel",
      "state": {
       "_model_module_version": "^0.4.3",
       "_view_module_version": "^0.4.3",
       "height": 1800,
       "layout": "IPY_MODEL_e46cc4b76f6948cfbcaf032c47ba9dab",
       "width": 980
      }
     },
     "e46cc4b76f6948cfbcaf032c47ba9dab": {
      "model_module": "@jupyter-widgets/base",
      "model_module_version": "1.2.0",
      "model_name": "LayoutModel",
      "state": {}
     },
     "e5511926d08a4f45bec956b35031dc00": {
      "model_module": "ipycanvas",
      "model_module_version": "^0.4.3",
      "model_name": "CanvasModel",
      "state": {
       "_model_module_version": "^0.4.3",
       "_view_module_version": "^0.4.3",
       "height": 600,
       "layout": "IPY_MODEL_3c4beac1ff854f598e5fefb762f04bed",
       "width": 600
      }
     },
     "e57b031976c946ee8caaba1960f2b8b7": {
      "model_module": "@jupyter-widgets/base",
      "model_module_version": "1.2.0",
      "model_name": "LayoutModel",
      "state": {}
     },
     "e5d96f147f5142a0831f7d98173edcd7": {
      "model_module": "@jupyter-widgets/base",
      "model_module_version": "1.2.0",
      "model_name": "LayoutModel",
      "state": {}
     },
     "e655a4001e9344ba963e78d71e2034f0": {
      "model_module": "ipycanvas",
      "model_module_version": "^0.4.3",
      "model_name": "CanvasModel",
      "state": {
       "_model_module_version": "^0.4.3",
       "_view_module_version": "^0.4.3",
       "height": 1800,
       "layout": "IPY_MODEL_e108ebb34397489e8967bfc5683285a7",
       "width": 980
      }
     },
     "e69d12d894c24bad8f21c6db458edc9b": {
      "model_module": "ipycanvas",
      "model_module_version": "^0.4.3",
      "model_name": "CanvasModel",
      "state": {
       "_model_module_version": "^0.4.3",
       "_view_module_version": "^0.4.3",
       "height": 600,
       "layout": "IPY_MODEL_217f7610cdbd4f5db26dede3ca95c4ce",
       "width": 600
      }
     },
     "e6bec2b7e4bf4741979c26f525fb9a00": {
      "model_module": "ipycanvas",
      "model_module_version": "^0.4.3",
      "model_name": "CanvasModel",
      "state": {
       "_model_module_version": "^0.4.3",
       "_view_module_version": "^0.4.3",
       "height": 1800,
       "layout": "IPY_MODEL_476d923579a647269418cbb3e22bc422",
       "width": 980
      }
     },
     "e7f0b4d680a54852b31489af82b6a4d2": {
      "model_module": "@jupyter-widgets/base",
      "model_module_version": "1.2.0",
      "model_name": "LayoutModel",
      "state": {}
     },
     "e85254313ff243d9a9bf6fd4e0d9d534": {
      "model_module": "@jupyter-widgets/base",
      "model_module_version": "1.2.0",
      "model_name": "LayoutModel",
      "state": {}
     },
     "e99efb0858c34e149ab65d6575453590": {
      "model_module": "ipycanvas",
      "model_module_version": "^0.4.3",
      "model_name": "CanvasModel",
      "state": {
       "_model_module_version": "^0.4.3",
       "_view_module_version": "^0.4.3",
       "height": 1600,
       "layout": "IPY_MODEL_05263fe95b6f4126a5c95e35cb33c11e",
       "width": 800
      }
     },
     "ea5f9090315c4162b242bb878bdc0751": {
      "model_module": "ipycanvas",
      "model_module_version": "^0.4.3",
      "model_name": "CanvasModel",
      "state": {
       "_model_module_version": "^0.4.3",
       "_view_module_version": "^0.4.3",
       "height": 600,
       "layout": "IPY_MODEL_bc309ea43d8a473ab0264b756f8af010",
       "width": 600
      }
     },
     "eade1946167446899aa5138bb53a6a94": {
      "model_module": "ipycanvas",
      "model_module_version": "^0.4.3",
      "model_name": "CanvasModel",
      "state": {
       "_model_module_version": "^0.4.3",
       "_view_module_version": "^0.4.3",
       "layout": "IPY_MODEL_b268b555f4b04d8bae1d6aea19b81558",
       "width": 400
      }
     },
     "ec7ef0bf407643bc82f270b4b8b356f3": {
      "model_module": "ipycanvas",
      "model_module_version": "^0.4.3",
      "model_name": "CanvasModel",
      "state": {
       "_model_module_version": "^0.4.3",
       "_view_module_version": "^0.4.3",
       "height": 600,
       "layout": "IPY_MODEL_3ae3b2e4c79a49ca9ce3090d0a88a328",
       "width": 600
      }
     },
     "eceba27cb9cd44c1a9a9cdf795070fa4": {
      "model_module": "@jupyter-widgets/base",
      "model_module_version": "1.2.0",
      "model_name": "LayoutModel",
      "state": {}
     },
     "ecef90f6fc80406296e4c2efd4c4924b": {
      "model_module": "@jupyter-widgets/base",
      "model_module_version": "1.2.0",
      "model_name": "LayoutModel",
      "state": {}
     },
     "ecf55062288e4fa5aa1e0aba618f3841": {
      "model_module": "@jupyter-widgets/base",
      "model_module_version": "1.2.0",
      "model_name": "LayoutModel",
      "state": {}
     },
     "ecfe3616d97842ab8b6f5f1bbed402b9": {
      "model_module": "ipycanvas",
      "model_module_version": "^0.4.3",
      "model_name": "CanvasModel",
      "state": {
       "_model_module_version": "^0.4.3",
       "_view_module_version": "^0.4.3",
       "height": 1800,
       "layout": "IPY_MODEL_00e3ea3cfc9d4cd3a00292630c1c7f6c",
       "width": 980
      }
     },
     "ed19b8491e08419699d854d0d354f1cb": {
      "model_module": "ipycanvas",
      "model_module_version": "^0.4.3",
      "model_name": "CanvasModel",
      "state": {
       "_model_module_version": "^0.4.3",
       "_view_module_version": "^0.4.3",
       "height": 1800,
       "layout": "IPY_MODEL_73c8d66214204c43be6def79baa6ca7d",
       "width": 980
      }
     },
     "ef6d2d11766940e09bdc6a761a0110b8": {
      "model_module": "@jupyter-widgets/base",
      "model_module_version": "1.2.0",
      "model_name": "LayoutModel",
      "state": {}
     },
     "f0a9bbfda1bb412db01d18d404e2fdc3": {
      "model_module": "@jupyter-widgets/base",
      "model_module_version": "1.2.0",
      "model_name": "LayoutModel",
      "state": {}
     },
     "f21a11ef7d3446d1a890e5d3946d4b5a": {
      "model_module": "@jupyter-widgets/base",
      "model_module_version": "1.2.0",
      "model_name": "LayoutModel",
      "state": {}
     },
     "f27b76aab730444e85e0dc1787b599c3": {
      "model_module": "@jupyter-widgets/base",
      "model_module_version": "1.2.0",
      "model_name": "LayoutModel",
      "state": {}
     },
     "f2c15cfbb144467a815b9dd730506a94": {
      "model_module": "@jupyter-widgets/base",
      "model_module_version": "1.2.0",
      "model_name": "LayoutModel",
      "state": {}
     },
     "f3195e56810747fb8cc07c5a1b89f7e7": {
      "model_module": "ipycanvas",
      "model_module_version": "^0.4.3",
      "model_name": "CanvasModel",
      "state": {
       "_model_module_version": "^0.4.3",
       "_view_module_version": "^0.4.3",
       "height": 600,
       "layout": "IPY_MODEL_0130715719124beab2e592fe125146c5",
       "width": 600
      }
     },
     "f4081cd197de4e3295c24c61175ce70d": {
      "model_module": "ipycanvas",
      "model_module_version": "^0.4.3",
      "model_name": "CanvasModel",
      "state": {
       "_model_module_version": "^0.4.3",
       "_view_module_version": "^0.4.3",
       "height": 1800,
       "layout": "IPY_MODEL_96f79a1defa042ec9c2cce5403e826a3",
       "width": 980
      }
     },
     "f64fe40e78fd4dada9a761e76ce66884": {
      "model_module": "ipycanvas",
      "model_module_version": "^0.4.3",
      "model_name": "CanvasModel",
      "state": {
       "_model_module_version": "^0.4.3",
       "_view_module_version": "^0.4.3",
       "height": 600,
       "layout": "IPY_MODEL_a58bdd37ed29463dab533465db5934f6",
       "width": 600
      }
     },
     "f764f3be8b9d4c2d8c88d6c965b35eaa": {
      "model_module": "@jupyter-widgets/base",
      "model_module_version": "1.2.0",
      "model_name": "LayoutModel",
      "state": {}
     },
     "f769eb19b243471e99e63059f97907e8": {
      "model_module": "@jupyter-widgets/base",
      "model_module_version": "1.2.0",
      "model_name": "LayoutModel",
      "state": {}
     },
     "f78738dc7ca14ab8ab54a73c81ac8340": {
      "model_module": "ipycanvas",
      "model_module_version": "^0.4.3",
      "model_name": "CanvasModel",
      "state": {
       "_model_module_version": "^0.4.3",
       "_view_module_version": "^0.4.3",
       "height": 1600,
       "layout": "IPY_MODEL_942f57dd0156443bbe3a403f07c112de",
       "width": 800
      }
     },
     "f7bdc84ecf654d18a24f3f8776d26d4a": {
      "model_module": "ipycanvas",
      "model_module_version": "^0.4.3",
      "model_name": "CanvasModel",
      "state": {
       "_model_module_version": "^0.4.3",
       "_view_module_version": "^0.4.3",
       "height": 800,
       "layout": "IPY_MODEL_f21a11ef7d3446d1a890e5d3946d4b5a",
       "width": 800
      }
     },
     "f8213d87e3c54ec7bd7e2c11dfcb08de": {
      "model_module": "ipycanvas",
      "model_module_version": "^0.4.3",
      "model_name": "CanvasModel",
      "state": {
       "_model_module_version": "^0.4.3",
       "_view_module_version": "^0.4.3",
       "height": 600,
       "layout": "IPY_MODEL_834330da0f344ba680f1aba466614475",
       "width": 600
      }
     },
     "f96ff651c4a8437197e0bc65f9cbe146": {
      "model_module": "@jupyter-widgets/base",
      "model_module_version": "1.2.0",
      "model_name": "LayoutModel",
      "state": {}
     },
     "f9a74d755c4043a1a00948af8e6f5178": {
      "model_module": "@jupyter-widgets/base",
      "model_module_version": "1.2.0",
      "model_name": "LayoutModel",
      "state": {}
     },
     "f9cd34eb8f344f9dbeaa9b290507f7de": {
      "model_module": "@jupyter-widgets/base",
      "model_module_version": "1.2.0",
      "model_name": "LayoutModel",
      "state": {}
     },
     "f9ed6792be494bdb8a9e497ea5cc246f": {
      "model_module": "@jupyter-widgets/base",
      "model_module_version": "1.2.0",
      "model_name": "LayoutModel",
      "state": {}
     },
     "fa1a45c45eb84534974a4a398c78a7f4": {
      "model_module": "@jupyter-widgets/base",
      "model_module_version": "1.2.0",
      "model_name": "LayoutModel",
      "state": {}
     },
     "fbdab7ffe05b432a93d8a4be7762b892": {
      "model_module": "ipycanvas",
      "model_module_version": "^0.4.3",
      "model_name": "CanvasModel",
      "state": {
       "_model_module_version": "^0.4.3",
       "_view_module_version": "^0.4.3",
       "height": 1800,
       "layout": "IPY_MODEL_69e2d8a3a5bc45bdbc51881c3e7bd27e",
       "width": 980
      }
     },
     "fbf60dc8670447098dde416e0ca2485d": {
      "model_module": "@jupyter-widgets/base",
      "model_module_version": "1.2.0",
      "model_name": "LayoutModel",
      "state": {}
     },
     "fd84b38babc5415d8b9234113c5e7c12": {
      "model_module": "ipycanvas",
      "model_module_version": "^0.4.3",
      "model_name": "CanvasModel",
      "state": {
       "_model_module_version": "^0.4.3",
       "_view_module_version": "^0.4.3",
       "height": 1800,
       "layout": "IPY_MODEL_3850ed6e1ed049fba2b8e7a878eb9714",
       "width": 980
      }
     },
     "fda899d1ed2b4139a4ba9aca443c9a4d": {
      "model_module": "ipycanvas",
      "model_module_version": "^0.4.3",
      "model_name": "CanvasModel",
      "state": {
       "_model_module_version": "^0.4.3",
       "_view_module_version": "^0.4.3",
       "height": 1800,
       "layout": "IPY_MODEL_7ffbede013654053a24ee9378285ffcd",
       "width": 980
      }
     },
     "fdb1e3acd5d14329877239ea7d296baf": {
      "model_module": "ipycanvas",
      "model_module_version": "^0.4.3",
      "model_name": "CanvasModel",
      "state": {
       "_model_module_version": "^0.4.3",
       "_view_module_version": "^0.4.3",
       "height": 600,
       "layout": "IPY_MODEL_4a71293b44894288a0d6994bd06e2aff",
       "width": 600
      }
     },
     "fe56c8df1fc3437cbffbc797b1b68670": {
      "model_module": "ipycanvas",
      "model_module_version": "^0.4.3",
      "model_name": "CanvasModel",
      "state": {
       "_model_module_version": "^0.4.3",
       "_view_module_version": "^0.4.3",
       "height": 1800,
       "layout": "IPY_MODEL_a5dfbcf224e243399abf81d4c38ad44d",
       "width": 980
      }
     },
     "fefff51e7ec148a59fa21bedccd8646d": {
      "model_module": "@jupyter-widgets/base",
      "model_module_version": "1.2.0",
      "model_name": "LayoutModel",
      "state": {}
     },
     "ff20ce63f766424296f891d7f86cd6e3": {
      "model_module": "ipycanvas",
      "model_module_version": "^0.4.3",
      "model_name": "CanvasModel",
      "state": {
       "_model_module_version": "^0.4.3",
       "_view_module_version": "^0.4.3",
       "height": 600,
       "layout": "IPY_MODEL_4db48080aba6493f8661213448836b7f",
       "width": 600
      }
     },
     "ffc3c1b7becd4d1dace03879e40451c6": {
      "model_module": "ipycanvas",
      "model_module_version": "^0.4.3",
      "model_name": "CanvasModel",
      "state": {
       "_model_module_version": "^0.4.3",
       "_view_module_version": "^0.4.3",
       "height": 600,
       "layout": "IPY_MODEL_f96ff651c4a8437197e0bc65f9cbe146",
       "width": 600
      }
     },
     "fff3e090eb804db397dc643ae1376930": {
      "model_module": "@jupyter-widgets/base",
      "model_module_version": "1.2.0",
      "model_name": "LayoutModel",
      "state": {}
     }
    },
    "version_major": 2,
    "version_minor": 0
   }
  }
 },
 "nbformat": 4,
 "nbformat_minor": 2
}
